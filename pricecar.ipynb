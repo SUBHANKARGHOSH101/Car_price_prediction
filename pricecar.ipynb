{
  "cells": [
    {
      "cell_type": "code",
      "execution_count": null,
      "metadata": {
        "colab": {
          "base_uri": "https://localhost:8080/"
        },
        "id": "UbxgDNnAmqRO",
        "outputId": "cd452a89-3fa7-49ab-9ff7-e00822896198"
      },
      "outputs": [],
      "source": []
    },
    {
      "cell_type": "code",
      "execution_count": 33,
      "metadata": {
        "colab": {
          "base_uri": "https://localhost:8080/",
          "height": 206
        },
        "id": "Ek57EgtRmxKO",
        "outputId": "3f111980-c3af-4cdd-dd6c-b75550fd6285"
      },
      "outputs": [
        {
          "data": {
            "text/html": [
              "<div>\n",
              "<style scoped>\n",
              "    .dataframe tbody tr th:only-of-type {\n",
              "        vertical-align: middle;\n",
              "    }\n",
              "\n",
              "    .dataframe tbody tr th {\n",
              "        vertical-align: top;\n",
              "    }\n",
              "\n",
              "    .dataframe thead th {\n",
              "        text-align: right;\n",
              "    }\n",
              "</style>\n",
              "<table border=\"1\" class=\"dataframe\">\n",
              "  <thead>\n",
              "    <tr style=\"text-align: right;\">\n",
              "      <th></th>\n",
              "      <th>Brand</th>\n",
              "      <th>Model</th>\n",
              "      <th>Location</th>\n",
              "      <th>Year</th>\n",
              "      <th>Kilometers_Driven</th>\n",
              "      <th>Fuel_Type</th>\n",
              "      <th>Owner_Type</th>\n",
              "      <th>Mileage</th>\n",
              "      <th>Engine</th>\n",
              "      <th>Price</th>\n",
              "    </tr>\n",
              "  </thead>\n",
              "  <tbody>\n",
              "    <tr>\n",
              "      <th>0</th>\n",
              "      <td>Maruti</td>\n",
              "      <td>Wagon R</td>\n",
              "      <td>Mumbai</td>\n",
              "      <td>2010</td>\n",
              "      <td>72000</td>\n",
              "      <td>CNG</td>\n",
              "      <td>First</td>\n",
              "      <td>26.6 km/kg</td>\n",
              "      <td>998 CC</td>\n",
              "      <td>1.75</td>\n",
              "    </tr>\n",
              "    <tr>\n",
              "      <th>1</th>\n",
              "      <td>Hyundai</td>\n",
              "      <td>Creta 1.6</td>\n",
              "      <td>Pune</td>\n",
              "      <td>2015</td>\n",
              "      <td>41000</td>\n",
              "      <td>Diesel</td>\n",
              "      <td>First</td>\n",
              "      <td>19.67 kmpl</td>\n",
              "      <td>1582 CC</td>\n",
              "      <td>12.50</td>\n",
              "    </tr>\n",
              "    <tr>\n",
              "      <th>2</th>\n",
              "      <td>Honda</td>\n",
              "      <td>Jazz V</td>\n",
              "      <td>Chennai</td>\n",
              "      <td>2011</td>\n",
              "      <td>46000</td>\n",
              "      <td>Petrol</td>\n",
              "      <td>First</td>\n",
              "      <td>18.2 kmpl</td>\n",
              "      <td>1199 CC</td>\n",
              "      <td>4.50</td>\n",
              "    </tr>\n",
              "    <tr>\n",
              "      <th>3</th>\n",
              "      <td>Maruti</td>\n",
              "      <td>Ertiga VDI</td>\n",
              "      <td>Chennai</td>\n",
              "      <td>2012</td>\n",
              "      <td>87000</td>\n",
              "      <td>Diesel</td>\n",
              "      <td>First</td>\n",
              "      <td>20.77 kmpl</td>\n",
              "      <td>1248 CC</td>\n",
              "      <td>6.00</td>\n",
              "    </tr>\n",
              "    <tr>\n",
              "      <th>4</th>\n",
              "      <td>Audi</td>\n",
              "      <td>A4 New</td>\n",
              "      <td>Coimbatore</td>\n",
              "      <td>2013</td>\n",
              "      <td>40670</td>\n",
              "      <td>Diesel</td>\n",
              "      <td>Second</td>\n",
              "      <td>15.2 kmpl</td>\n",
              "      <td>1968 CC</td>\n",
              "      <td>17.74</td>\n",
              "    </tr>\n",
              "  </tbody>\n",
              "</table>\n",
              "</div>"
            ],
            "text/plain": [
              "     Brand       Model    Location  Year  Kilometers_Driven Fuel_Type  \\\n",
              "0   Maruti     Wagon R      Mumbai  2010              72000       CNG   \n",
              "1  Hyundai   Creta 1.6        Pune  2015              41000    Diesel   \n",
              "2    Honda      Jazz V     Chennai  2011              46000    Petrol   \n",
              "3   Maruti  Ertiga VDI     Chennai  2012              87000    Diesel   \n",
              "4     Audi      A4 New  Coimbatore  2013              40670    Diesel   \n",
              "\n",
              "  Owner_Type     Mileage   Engine  Price  \n",
              "0      First  26.6 km/kg   998 CC   1.75  \n",
              "1      First  19.67 kmpl  1582 CC  12.50  \n",
              "2      First   18.2 kmpl  1199 CC   4.50  \n",
              "3      First  20.77 kmpl  1248 CC   6.00  \n",
              "4     Second   15.2 kmpl  1968 CC  17.74  "
            ]
          },
          "execution_count": 33,
          "metadata": {},
          "output_type": "execute_result"
        }
      ],
      "source": [
        "import pandas as pd\n",
        "import numpy as np\n",
        "\n",
        "# car = pd.read_csv('/content/drive/My Drive/Colab Notebooks/test-data.csv')\n",
        "car = pd.read_csv('result.csv')\n",
        "car.head()"
      ]
    },
    {
      "cell_type": "code",
      "execution_count": 34,
      "metadata": {
        "colab": {
          "base_uri": "https://localhost:8080/",
          "height": 528
        },
        "id": "KQSCOsiomxRv",
        "outputId": "33ed3b18-276e-4977-b8d0-0499f3bb1d78"
      },
      "outputs": [
        {
          "data": {
            "text/html": [
              "<div>\n",
              "<style scoped>\n",
              "    .dataframe tbody tr th:only-of-type {\n",
              "        vertical-align: middle;\n",
              "    }\n",
              "\n",
              "    .dataframe tbody tr th {\n",
              "        vertical-align: top;\n",
              "    }\n",
              "\n",
              "    .dataframe thead th {\n",
              "        text-align: right;\n",
              "    }\n",
              "</style>\n",
              "<table border=\"1\" class=\"dataframe\">\n",
              "  <thead>\n",
              "    <tr style=\"text-align: right;\">\n",
              "      <th></th>\n",
              "      <th>Brand</th>\n",
              "      <th>Model</th>\n",
              "      <th>Location</th>\n",
              "      <th>Year</th>\n",
              "      <th>Kilometers_Driven</th>\n",
              "      <th>Fuel_Type</th>\n",
              "      <th>Owner_Type</th>\n",
              "      <th>Mileage</th>\n",
              "      <th>Engine</th>\n",
              "      <th>Price</th>\n",
              "    </tr>\n",
              "  </thead>\n",
              "  <tbody>\n",
              "    <tr>\n",
              "      <th>0</th>\n",
              "      <td>Maruti</td>\n",
              "      <td>Wagon R</td>\n",
              "      <td>Mumbai</td>\n",
              "      <td>2010</td>\n",
              "      <td>72000</td>\n",
              "      <td>CNG</td>\n",
              "      <td>First</td>\n",
              "      <td>26.6 km/kg</td>\n",
              "      <td>998 CC</td>\n",
              "      <td>1.75</td>\n",
              "    </tr>\n",
              "    <tr>\n",
              "      <th>1</th>\n",
              "      <td>Hyundai</td>\n",
              "      <td>Creta 1.6</td>\n",
              "      <td>Pune</td>\n",
              "      <td>2015</td>\n",
              "      <td>41000</td>\n",
              "      <td>Diesel</td>\n",
              "      <td>First</td>\n",
              "      <td>19.67 kmpl</td>\n",
              "      <td>1582 CC</td>\n",
              "      <td>12.50</td>\n",
              "    </tr>\n",
              "    <tr>\n",
              "      <th>2</th>\n",
              "      <td>Honda</td>\n",
              "      <td>Jazz V</td>\n",
              "      <td>Chennai</td>\n",
              "      <td>2011</td>\n",
              "      <td>46000</td>\n",
              "      <td>Petrol</td>\n",
              "      <td>First</td>\n",
              "      <td>18.2 kmpl</td>\n",
              "      <td>1199 CC</td>\n",
              "      <td>4.50</td>\n",
              "    </tr>\n",
              "    <tr>\n",
              "      <th>3</th>\n",
              "      <td>Maruti</td>\n",
              "      <td>Ertiga VDI</td>\n",
              "      <td>Chennai</td>\n",
              "      <td>2012</td>\n",
              "      <td>87000</td>\n",
              "      <td>Diesel</td>\n",
              "      <td>First</td>\n",
              "      <td>20.77 kmpl</td>\n",
              "      <td>1248 CC</td>\n",
              "      <td>6.00</td>\n",
              "    </tr>\n",
              "    <tr>\n",
              "      <th>4</th>\n",
              "      <td>Audi</td>\n",
              "      <td>A4 New</td>\n",
              "      <td>Coimbatore</td>\n",
              "      <td>2013</td>\n",
              "      <td>40670</td>\n",
              "      <td>Diesel</td>\n",
              "      <td>Second</td>\n",
              "      <td>15.2 kmpl</td>\n",
              "      <td>1968 CC</td>\n",
              "      <td>17.74</td>\n",
              "    </tr>\n",
              "    <tr>\n",
              "      <th>...</th>\n",
              "      <td>...</td>\n",
              "      <td>...</td>\n",
              "      <td>...</td>\n",
              "      <td>...</td>\n",
              "      <td>...</td>\n",
              "      <td>...</td>\n",
              "      <td>...</td>\n",
              "      <td>...</td>\n",
              "      <td>...</td>\n",
              "      <td>...</td>\n",
              "    </tr>\n",
              "    <tr>\n",
              "      <th>6014</th>\n",
              "      <td>Maruti</td>\n",
              "      <td>Swift VDI</td>\n",
              "      <td>Delhi</td>\n",
              "      <td>2014</td>\n",
              "      <td>27365</td>\n",
              "      <td>Diesel</td>\n",
              "      <td>First</td>\n",
              "      <td>28.4 kmpl</td>\n",
              "      <td>1248 CC</td>\n",
              "      <td>4.75</td>\n",
              "    </tr>\n",
              "    <tr>\n",
              "      <th>6015</th>\n",
              "      <td>Hyundai</td>\n",
              "      <td>Xcent 1.1</td>\n",
              "      <td>Jaipur</td>\n",
              "      <td>2015</td>\n",
              "      <td>100000</td>\n",
              "      <td>Diesel</td>\n",
              "      <td>First</td>\n",
              "      <td>24.4 kmpl</td>\n",
              "      <td>1120 CC</td>\n",
              "      <td>4.00</td>\n",
              "    </tr>\n",
              "    <tr>\n",
              "      <th>6016</th>\n",
              "      <td>Mahindra</td>\n",
              "      <td>Xylo D4</td>\n",
              "      <td>Jaipur</td>\n",
              "      <td>2012</td>\n",
              "      <td>55000</td>\n",
              "      <td>Diesel</td>\n",
              "      <td>Second</td>\n",
              "      <td>14.0 kmpl</td>\n",
              "      <td>2498 CC</td>\n",
              "      <td>2.90</td>\n",
              "    </tr>\n",
              "    <tr>\n",
              "      <th>6017</th>\n",
              "      <td>Maruti</td>\n",
              "      <td>Wagon R</td>\n",
              "      <td>Kolkata</td>\n",
              "      <td>2013</td>\n",
              "      <td>46000</td>\n",
              "      <td>Petrol</td>\n",
              "      <td>First</td>\n",
              "      <td>18.9 kmpl</td>\n",
              "      <td>998 CC</td>\n",
              "      <td>2.65</td>\n",
              "    </tr>\n",
              "    <tr>\n",
              "      <th>6018</th>\n",
              "      <td>Chevrolet</td>\n",
              "      <td>Beat Diesel</td>\n",
              "      <td>Hyderabad</td>\n",
              "      <td>2011</td>\n",
              "      <td>47000</td>\n",
              "      <td>Diesel</td>\n",
              "      <td>First</td>\n",
              "      <td>25.44 kmpl</td>\n",
              "      <td>936 CC</td>\n",
              "      <td>2.50</td>\n",
              "    </tr>\n",
              "  </tbody>\n",
              "</table>\n",
              "<p>5981 rows × 10 columns</p>\n",
              "</div>"
            ],
            "text/plain": [
              "          Brand        Model    Location  Year  Kilometers_Driven Fuel_Type  \\\n",
              "0        Maruti      Wagon R      Mumbai  2010              72000       CNG   \n",
              "1       Hyundai    Creta 1.6        Pune  2015              41000    Diesel   \n",
              "2         Honda       Jazz V     Chennai  2011              46000    Petrol   \n",
              "3        Maruti   Ertiga VDI     Chennai  2012              87000    Diesel   \n",
              "4          Audi       A4 New  Coimbatore  2013              40670    Diesel   \n",
              "...         ...          ...         ...   ...                ...       ...   \n",
              "6014     Maruti    Swift VDI       Delhi  2014              27365    Diesel   \n",
              "6015    Hyundai    Xcent 1.1      Jaipur  2015             100000    Diesel   \n",
              "6016   Mahindra      Xylo D4      Jaipur  2012              55000    Diesel   \n",
              "6017     Maruti      Wagon R     Kolkata  2013              46000    Petrol   \n",
              "6018  Chevrolet  Beat Diesel   Hyderabad  2011              47000    Diesel   \n",
              "\n",
              "     Owner_Type     Mileage   Engine  Price  \n",
              "0         First  26.6 km/kg   998 CC   1.75  \n",
              "1         First  19.67 kmpl  1582 CC  12.50  \n",
              "2         First   18.2 kmpl  1199 CC   4.50  \n",
              "3         First  20.77 kmpl  1248 CC   6.00  \n",
              "4        Second   15.2 kmpl  1968 CC  17.74  \n",
              "...         ...         ...      ...    ...  \n",
              "6014      First   28.4 kmpl  1248 CC   4.75  \n",
              "6015      First   24.4 kmpl  1120 CC   4.00  \n",
              "6016     Second   14.0 kmpl  2498 CC   2.90  \n",
              "6017      First   18.9 kmpl   998 CC   2.65  \n",
              "6018      First  25.44 kmpl   936 CC   2.50  \n",
              "\n",
              "[5981 rows x 10 columns]"
            ]
          },
          "execution_count": 34,
          "metadata": {},
          "output_type": "execute_result"
        }
      ],
      "source": [
        "car = car.dropna()\n",
        "car['Year']=car['Year'].astype(int)\n",
        "car\n"
      ]
    },
    {
      "cell_type": "code",
      "execution_count": 35,
      "metadata": {
        "colab": {
          "base_uri": "https://localhost:8080/"
        },
        "id": "dlZNFq8-mxUG",
        "outputId": "cff62a02-c42d-4a2d-dcf0-24d15f80dbe6"
      },
      "outputs": [
        {
          "name": "stdout",
          "output_type": "stream",
          "text": [
            "<class 'pandas.core.frame.DataFrame'>\n",
            "Int64Index: 5981 entries, 0 to 6018\n",
            "Data columns (total 10 columns):\n",
            " #   Column             Non-Null Count  Dtype  \n",
            "---  ------             --------------  -----  \n",
            " 0   Brand              5981 non-null   object \n",
            " 1   Model              5981 non-null   object \n",
            " 2   Location           5981 non-null   object \n",
            " 3   Year               5981 non-null   int32  \n",
            " 4   Kilometers_Driven  5981 non-null   int32  \n",
            " 5   Fuel_Type          5981 non-null   object \n",
            " 6   Owner_Type         5981 non-null   object \n",
            " 7   Mileage            5981 non-null   object \n",
            " 8   Engine             5981 non-null   object \n",
            " 9   Price              5981 non-null   float64\n",
            "dtypes: float64(1), int32(2), object(7)\n",
            "memory usage: 467.3+ KB\n"
          ]
        }
      ],
      "source": [
        "from numpy import float32, int16\n",
        "\n",
        "\n",
        "car=car[car['Price']!='Ask For Price']\n",
        "car['Kilometers_Driven']=car['Kilometers_Driven'].astype(int)\n",
        "car['Mileage']=car['Mileage'].str.split().str.get(0)\n",
        "car['Engine']=car['Engine'].str.split().str.get(0)\n",
        "car.dropna(inplace=True)\n",
        "\n",
        "car.info()"
      ]
    },
    {
      "cell_type": "code",
      "execution_count": 36,
      "metadata": {
        "id": "8pHDg203mxWq"
      },
      "outputs": [],
      "source": [
        "from numpy import float32\n",
        "\n",
        "\n",
        "car['Mileage']=car['Mileage'].astype(float32)"
      ]
    },
    {
      "cell_type": "code",
      "execution_count": 37,
      "metadata": {
        "id": "eUDLTtbimxY2"
      },
      "outputs": [],
      "source": [
        "from numpy import int16\n",
        "\n",
        "\n",
        "car['Mileage']=car['Mileage'].astype(int16)"
      ]
    },
    {
      "cell_type": "code",
      "execution_count": 38,
      "metadata": {
        "id": "lXJZ7zzAmxbO"
      },
      "outputs": [],
      "source": [
        "from numpy import int16\n",
        "\n",
        "\n",
        "car['Engine']=car['Engine'].astype(int16)"
      ]
    },
    {
      "cell_type": "code",
      "execution_count": 39,
      "metadata": {
        "colab": {
          "base_uri": "https://localhost:8080/",
          "height": 424
        },
        "id": "8hK3AwQ8mxdi",
        "outputId": "f22d01ef-c0d0-48ea-88ff-264b7f495d8e"
      },
      "outputs": [
        {
          "data": {
            "text/html": [
              "<div>\n",
              "<style scoped>\n",
              "    .dataframe tbody tr th:only-of-type {\n",
              "        vertical-align: middle;\n",
              "    }\n",
              "\n",
              "    .dataframe tbody tr th {\n",
              "        vertical-align: top;\n",
              "    }\n",
              "\n",
              "    .dataframe thead th {\n",
              "        text-align: right;\n",
              "    }\n",
              "</style>\n",
              "<table border=\"1\" class=\"dataframe\">\n",
              "  <thead>\n",
              "    <tr style=\"text-align: right;\">\n",
              "      <th></th>\n",
              "      <th>Brand</th>\n",
              "      <th>Model</th>\n",
              "      <th>Location</th>\n",
              "      <th>Year</th>\n",
              "      <th>Kilometers_Driven</th>\n",
              "      <th>Fuel_Type</th>\n",
              "      <th>Owner_Type</th>\n",
              "      <th>Mileage</th>\n",
              "      <th>Engine</th>\n",
              "      <th>Price</th>\n",
              "    </tr>\n",
              "  </thead>\n",
              "  <tbody>\n",
              "    <tr>\n",
              "      <th>0</th>\n",
              "      <td>Maruti</td>\n",
              "      <td>Wagon R</td>\n",
              "      <td>Mumbai</td>\n",
              "      <td>2010</td>\n",
              "      <td>72000</td>\n",
              "      <td>CNG</td>\n",
              "      <td>First</td>\n",
              "      <td>26</td>\n",
              "      <td>998</td>\n",
              "      <td>1.75</td>\n",
              "    </tr>\n",
              "    <tr>\n",
              "      <th>1</th>\n",
              "      <td>Hyundai</td>\n",
              "      <td>Creta 1.6</td>\n",
              "      <td>Pune</td>\n",
              "      <td>2015</td>\n",
              "      <td>41000</td>\n",
              "      <td>Diesel</td>\n",
              "      <td>First</td>\n",
              "      <td>19</td>\n",
              "      <td>1582</td>\n",
              "      <td>12.50</td>\n",
              "    </tr>\n",
              "    <tr>\n",
              "      <th>2</th>\n",
              "      <td>Honda</td>\n",
              "      <td>Jazz V</td>\n",
              "      <td>Chennai</td>\n",
              "      <td>2011</td>\n",
              "      <td>46000</td>\n",
              "      <td>Petrol</td>\n",
              "      <td>First</td>\n",
              "      <td>18</td>\n",
              "      <td>1199</td>\n",
              "      <td>4.50</td>\n",
              "    </tr>\n",
              "    <tr>\n",
              "      <th>3</th>\n",
              "      <td>Maruti</td>\n",
              "      <td>Ertiga VDI</td>\n",
              "      <td>Chennai</td>\n",
              "      <td>2012</td>\n",
              "      <td>87000</td>\n",
              "      <td>Diesel</td>\n",
              "      <td>First</td>\n",
              "      <td>20</td>\n",
              "      <td>1248</td>\n",
              "      <td>6.00</td>\n",
              "    </tr>\n",
              "    <tr>\n",
              "      <th>4</th>\n",
              "      <td>Audi</td>\n",
              "      <td>A4 New</td>\n",
              "      <td>Coimbatore</td>\n",
              "      <td>2013</td>\n",
              "      <td>40670</td>\n",
              "      <td>Diesel</td>\n",
              "      <td>Second</td>\n",
              "      <td>15</td>\n",
              "      <td>1968</td>\n",
              "      <td>17.74</td>\n",
              "    </tr>\n",
              "    <tr>\n",
              "      <th>...</th>\n",
              "      <td>...</td>\n",
              "      <td>...</td>\n",
              "      <td>...</td>\n",
              "      <td>...</td>\n",
              "      <td>...</td>\n",
              "      <td>...</td>\n",
              "      <td>...</td>\n",
              "      <td>...</td>\n",
              "      <td>...</td>\n",
              "      <td>...</td>\n",
              "    </tr>\n",
              "    <tr>\n",
              "      <th>5976</th>\n",
              "      <td>Maruti</td>\n",
              "      <td>Swift VDI</td>\n",
              "      <td>Delhi</td>\n",
              "      <td>2014</td>\n",
              "      <td>27365</td>\n",
              "      <td>Diesel</td>\n",
              "      <td>First</td>\n",
              "      <td>28</td>\n",
              "      <td>1248</td>\n",
              "      <td>4.75</td>\n",
              "    </tr>\n",
              "    <tr>\n",
              "      <th>5977</th>\n",
              "      <td>Hyundai</td>\n",
              "      <td>Xcent 1.1</td>\n",
              "      <td>Jaipur</td>\n",
              "      <td>2015</td>\n",
              "      <td>100000</td>\n",
              "      <td>Diesel</td>\n",
              "      <td>First</td>\n",
              "      <td>24</td>\n",
              "      <td>1120</td>\n",
              "      <td>4.00</td>\n",
              "    </tr>\n",
              "    <tr>\n",
              "      <th>5978</th>\n",
              "      <td>Mahindra</td>\n",
              "      <td>Xylo D4</td>\n",
              "      <td>Jaipur</td>\n",
              "      <td>2012</td>\n",
              "      <td>55000</td>\n",
              "      <td>Diesel</td>\n",
              "      <td>Second</td>\n",
              "      <td>14</td>\n",
              "      <td>2498</td>\n",
              "      <td>2.90</td>\n",
              "    </tr>\n",
              "    <tr>\n",
              "      <th>5979</th>\n",
              "      <td>Maruti</td>\n",
              "      <td>Wagon R</td>\n",
              "      <td>Kolkata</td>\n",
              "      <td>2013</td>\n",
              "      <td>46000</td>\n",
              "      <td>Petrol</td>\n",
              "      <td>First</td>\n",
              "      <td>18</td>\n",
              "      <td>998</td>\n",
              "      <td>2.65</td>\n",
              "    </tr>\n",
              "    <tr>\n",
              "      <th>5980</th>\n",
              "      <td>Chevrolet</td>\n",
              "      <td>Beat Diesel</td>\n",
              "      <td>Hyderabad</td>\n",
              "      <td>2011</td>\n",
              "      <td>47000</td>\n",
              "      <td>Diesel</td>\n",
              "      <td>First</td>\n",
              "      <td>25</td>\n",
              "      <td>936</td>\n",
              "      <td>2.50</td>\n",
              "    </tr>\n",
              "  </tbody>\n",
              "</table>\n",
              "<p>5981 rows × 10 columns</p>\n",
              "</div>"
            ],
            "text/plain": [
              "          Brand        Model    Location  Year  Kilometers_Driven Fuel_Type  \\\n",
              "0        Maruti      Wagon R      Mumbai  2010              72000       CNG   \n",
              "1       Hyundai    Creta 1.6        Pune  2015              41000    Diesel   \n",
              "2         Honda       Jazz V     Chennai  2011              46000    Petrol   \n",
              "3        Maruti   Ertiga VDI     Chennai  2012              87000    Diesel   \n",
              "4          Audi       A4 New  Coimbatore  2013              40670    Diesel   \n",
              "...         ...          ...         ...   ...                ...       ...   \n",
              "5976     Maruti    Swift VDI       Delhi  2014              27365    Diesel   \n",
              "5977    Hyundai    Xcent 1.1      Jaipur  2015             100000    Diesel   \n",
              "5978   Mahindra      Xylo D4      Jaipur  2012              55000    Diesel   \n",
              "5979     Maruti      Wagon R     Kolkata  2013              46000    Petrol   \n",
              "5980  Chevrolet  Beat Diesel   Hyderabad  2011              47000    Diesel   \n",
              "\n",
              "     Owner_Type  Mileage  Engine  Price  \n",
              "0         First       26     998   1.75  \n",
              "1         First       19    1582  12.50  \n",
              "2         First       18    1199   4.50  \n",
              "3         First       20    1248   6.00  \n",
              "4        Second       15    1968  17.74  \n",
              "...         ...      ...     ...    ...  \n",
              "5976      First       28    1248   4.75  \n",
              "5977      First       24    1120   4.00  \n",
              "5978     Second       14    2498   2.90  \n",
              "5979      First       18     998   2.65  \n",
              "5980      First       25     936   2.50  \n",
              "\n",
              "[5981 rows x 10 columns]"
            ]
          },
          "execution_count": 39,
          "metadata": {},
          "output_type": "execute_result"
        }
      ],
      "source": [
        "car=car.reset_index(drop=True)\n",
        "car"
      ]
    },
    {
      "cell_type": "markdown",
      "metadata": {
        "id": "t5k8uysnscDH"
      },
      "source": [
        "# New Section"
      ]
    },
    {
      "cell_type": "code",
      "execution_count": 40,
      "metadata": {
        "colab": {
          "base_uri": "https://localhost:8080/"
        },
        "id": "YnsJk2xSmxgB",
        "outputId": "358f885b-f6b7-418e-c673-bac6e0cab5fd"
      },
      "outputs": [
        {
          "name": "stdout",
          "output_type": "stream",
          "text": [
            "<class 'pandas.core.frame.DataFrame'>\n",
            "RangeIndex: 5981 entries, 0 to 5980\n",
            "Data columns (total 10 columns):\n",
            " #   Column             Non-Null Count  Dtype  \n",
            "---  ------             --------------  -----  \n",
            " 0   Brand              5981 non-null   object \n",
            " 1   Model              5981 non-null   object \n",
            " 2   Location           5981 non-null   object \n",
            " 3   Year               5981 non-null   int32  \n",
            " 4   Kilometers_Driven  5981 non-null   int32  \n",
            " 5   Fuel_Type          5981 non-null   object \n",
            " 6   Owner_Type         5981 non-null   object \n",
            " 7   Mileage            5981 non-null   int16  \n",
            " 8   Engine             5981 non-null   int16  \n",
            " 9   Price              5981 non-null   float64\n",
            "dtypes: float64(1), int16(2), int32(2), object(5)\n",
            "memory usage: 350.6+ KB\n"
          ]
        }
      ],
      "source": [
        "car.info()"
      ]
    },
    {
      "cell_type": "code",
      "execution_count": 41,
      "metadata": {
        "colab": {
          "base_uri": "https://localhost:8080/",
          "height": 424
        },
        "id": "H2M1fc33mxic",
        "outputId": "9c04a098-117c-4707-d568-fad80f3f75fe"
      },
      "outputs": [
        {
          "data": {
            "text/html": [
              "<div>\n",
              "<style scoped>\n",
              "    .dataframe tbody tr th:only-of-type {\n",
              "        vertical-align: middle;\n",
              "    }\n",
              "\n",
              "    .dataframe tbody tr th {\n",
              "        vertical-align: top;\n",
              "    }\n",
              "\n",
              "    .dataframe thead th {\n",
              "        text-align: right;\n",
              "    }\n",
              "</style>\n",
              "<table border=\"1\" class=\"dataframe\">\n",
              "  <thead>\n",
              "    <tr style=\"text-align: right;\">\n",
              "      <th></th>\n",
              "      <th>Brand</th>\n",
              "      <th>Model</th>\n",
              "      <th>Location</th>\n",
              "      <th>Year</th>\n",
              "      <th>Kilometers_Driven</th>\n",
              "      <th>Fuel_Type</th>\n",
              "      <th>Owner_Type</th>\n",
              "      <th>Engine</th>\n",
              "      <th>Mileage</th>\n",
              "    </tr>\n",
              "  </thead>\n",
              "  <tbody>\n",
              "    <tr>\n",
              "      <th>0</th>\n",
              "      <td>Maruti</td>\n",
              "      <td>Wagon R</td>\n",
              "      <td>Mumbai</td>\n",
              "      <td>2010</td>\n",
              "      <td>72000</td>\n",
              "      <td>CNG</td>\n",
              "      <td>First</td>\n",
              "      <td>998</td>\n",
              "      <td>26</td>\n",
              "    </tr>\n",
              "    <tr>\n",
              "      <th>1</th>\n",
              "      <td>Hyundai</td>\n",
              "      <td>Creta 1.6</td>\n",
              "      <td>Pune</td>\n",
              "      <td>2015</td>\n",
              "      <td>41000</td>\n",
              "      <td>Diesel</td>\n",
              "      <td>First</td>\n",
              "      <td>1582</td>\n",
              "      <td>19</td>\n",
              "    </tr>\n",
              "    <tr>\n",
              "      <th>2</th>\n",
              "      <td>Honda</td>\n",
              "      <td>Jazz V</td>\n",
              "      <td>Chennai</td>\n",
              "      <td>2011</td>\n",
              "      <td>46000</td>\n",
              "      <td>Petrol</td>\n",
              "      <td>First</td>\n",
              "      <td>1199</td>\n",
              "      <td>18</td>\n",
              "    </tr>\n",
              "    <tr>\n",
              "      <th>3</th>\n",
              "      <td>Maruti</td>\n",
              "      <td>Ertiga VDI</td>\n",
              "      <td>Chennai</td>\n",
              "      <td>2012</td>\n",
              "      <td>87000</td>\n",
              "      <td>Diesel</td>\n",
              "      <td>First</td>\n",
              "      <td>1248</td>\n",
              "      <td>20</td>\n",
              "    </tr>\n",
              "    <tr>\n",
              "      <th>4</th>\n",
              "      <td>Audi</td>\n",
              "      <td>A4 New</td>\n",
              "      <td>Coimbatore</td>\n",
              "      <td>2013</td>\n",
              "      <td>40670</td>\n",
              "      <td>Diesel</td>\n",
              "      <td>Second</td>\n",
              "      <td>1968</td>\n",
              "      <td>15</td>\n",
              "    </tr>\n",
              "    <tr>\n",
              "      <th>...</th>\n",
              "      <td>...</td>\n",
              "      <td>...</td>\n",
              "      <td>...</td>\n",
              "      <td>...</td>\n",
              "      <td>...</td>\n",
              "      <td>...</td>\n",
              "      <td>...</td>\n",
              "      <td>...</td>\n",
              "      <td>...</td>\n",
              "    </tr>\n",
              "    <tr>\n",
              "      <th>5976</th>\n",
              "      <td>Maruti</td>\n",
              "      <td>Swift VDI</td>\n",
              "      <td>Delhi</td>\n",
              "      <td>2014</td>\n",
              "      <td>27365</td>\n",
              "      <td>Diesel</td>\n",
              "      <td>First</td>\n",
              "      <td>1248</td>\n",
              "      <td>28</td>\n",
              "    </tr>\n",
              "    <tr>\n",
              "      <th>5977</th>\n",
              "      <td>Hyundai</td>\n",
              "      <td>Xcent 1.1</td>\n",
              "      <td>Jaipur</td>\n",
              "      <td>2015</td>\n",
              "      <td>100000</td>\n",
              "      <td>Diesel</td>\n",
              "      <td>First</td>\n",
              "      <td>1120</td>\n",
              "      <td>24</td>\n",
              "    </tr>\n",
              "    <tr>\n",
              "      <th>5978</th>\n",
              "      <td>Mahindra</td>\n",
              "      <td>Xylo D4</td>\n",
              "      <td>Jaipur</td>\n",
              "      <td>2012</td>\n",
              "      <td>55000</td>\n",
              "      <td>Diesel</td>\n",
              "      <td>Second</td>\n",
              "      <td>2498</td>\n",
              "      <td>14</td>\n",
              "    </tr>\n",
              "    <tr>\n",
              "      <th>5979</th>\n",
              "      <td>Maruti</td>\n",
              "      <td>Wagon R</td>\n",
              "      <td>Kolkata</td>\n",
              "      <td>2013</td>\n",
              "      <td>46000</td>\n",
              "      <td>Petrol</td>\n",
              "      <td>First</td>\n",
              "      <td>998</td>\n",
              "      <td>18</td>\n",
              "    </tr>\n",
              "    <tr>\n",
              "      <th>5980</th>\n",
              "      <td>Chevrolet</td>\n",
              "      <td>Beat Diesel</td>\n",
              "      <td>Hyderabad</td>\n",
              "      <td>2011</td>\n",
              "      <td>47000</td>\n",
              "      <td>Diesel</td>\n",
              "      <td>First</td>\n",
              "      <td>936</td>\n",
              "      <td>25</td>\n",
              "    </tr>\n",
              "  </tbody>\n",
              "</table>\n",
              "<p>5981 rows × 9 columns</p>\n",
              "</div>"
            ],
            "text/plain": [
              "          Brand        Model    Location  Year  Kilometers_Driven Fuel_Type  \\\n",
              "0        Maruti      Wagon R      Mumbai  2010              72000       CNG   \n",
              "1       Hyundai    Creta 1.6        Pune  2015              41000    Diesel   \n",
              "2         Honda       Jazz V     Chennai  2011              46000    Petrol   \n",
              "3        Maruti   Ertiga VDI     Chennai  2012              87000    Diesel   \n",
              "4          Audi       A4 New  Coimbatore  2013              40670    Diesel   \n",
              "...         ...          ...         ...   ...                ...       ...   \n",
              "5976     Maruti    Swift VDI       Delhi  2014              27365    Diesel   \n",
              "5977    Hyundai    Xcent 1.1      Jaipur  2015             100000    Diesel   \n",
              "5978   Mahindra      Xylo D4      Jaipur  2012              55000    Diesel   \n",
              "5979     Maruti      Wagon R     Kolkata  2013              46000    Petrol   \n",
              "5980  Chevrolet  Beat Diesel   Hyderabad  2011              47000    Diesel   \n",
              "\n",
              "     Owner_Type  Engine  Mileage  \n",
              "0         First     998       26  \n",
              "1         First    1582       19  \n",
              "2         First    1199       18  \n",
              "3         First    1248       20  \n",
              "4        Second    1968       15  \n",
              "...         ...     ...      ...  \n",
              "5976      First    1248       28  \n",
              "5977      First    1120       24  \n",
              "5978     Second    2498       14  \n",
              "5979      First     998       18  \n",
              "5980      First     936       25  \n",
              "\n",
              "[5981 rows x 9 columns]"
            ]
          },
          "execution_count": 41,
          "metadata": {},
          "output_type": "execute_result"
        }
      ],
      "source": [
        "X = car[['Brand','Model', 'Location', 'Year', 'Kilometers_Driven','Fuel_Type','Owner_Type','Engine', 'Mileage']]\n",
        "X"
      ]
    },
    {
      "cell_type": "code",
      "execution_count": 42,
      "metadata": {
        "colab": {
          "base_uri": "https://localhost:8080/"
        },
        "id": "jIc916-7mxkw",
        "outputId": "c62d6b7a-f3d7-4131-ebb9-927e8427ec9f"
      },
      "outputs": [
        {
          "data": {
            "text/plain": [
              "0        1.75\n",
              "1       12.50\n",
              "2        4.50\n",
              "3        6.00\n",
              "4       17.74\n",
              "        ...  \n",
              "5976     4.75\n",
              "5977     4.00\n",
              "5978     2.90\n",
              "5979     2.65\n",
              "5980     2.50\n",
              "Name: Price, Length: 5981, dtype: float64"
            ]
          },
          "execution_count": 42,
          "metadata": {},
          "output_type": "execute_result"
        }
      ],
      "source": [
        "y = car['Price']\n",
        "y"
      ]
    },
    {
      "cell_type": "code",
      "execution_count": 43,
      "metadata": {
        "colab": {
          "base_uri": "https://localhost:8080/"
        },
        "id": "tBaFg1ptmxnG",
        "outputId": "88f69e7d-77b8-408b-83dd-196466e68db9"
      },
      "outputs": [
        {
          "name": "stdout",
          "output_type": "stream",
          "text": [
            "<class 'pandas.core.frame.DataFrame'>\n",
            "RangeIndex: 5981 entries, 0 to 5980\n",
            "Data columns (total 10 columns):\n",
            " #   Column             Non-Null Count  Dtype  \n",
            "---  ------             --------------  -----  \n",
            " 0   Brand              5981 non-null   object \n",
            " 1   Model              5981 non-null   object \n",
            " 2   Location           5981 non-null   object \n",
            " 3   Year               5981 non-null   int32  \n",
            " 4   Kilometers_Driven  5981 non-null   int32  \n",
            " 5   Fuel_Type          5981 non-null   object \n",
            " 6   Owner_Type         5981 non-null   object \n",
            " 7   Mileage            5981 non-null   int16  \n",
            " 8   Engine             5981 non-null   int16  \n",
            " 9   Price              5981 non-null   float64\n",
            "dtypes: float64(1), int16(2), int32(2), object(5)\n",
            "memory usage: 350.6+ KB\n"
          ]
        }
      ],
      "source": [
        "car['Brand'].unique()\n",
        "car['Model'].unique()\n",
        "car.info(0)"
      ]
    },
    {
      "cell_type": "code",
      "execution_count": 44,
      "metadata": {
        "id": "NPxQBphWmxp2"
      },
      "outputs": [],
      "source": [
        "from sklearn.model_selection import train_test_split\n",
        "X_train,X_test,y_train,y_test=train_test_split(X,y,test_size=0.2)"
      ]
    },
    {
      "cell_type": "code",
      "execution_count": 45,
      "metadata": {
        "id": "ba9lOoc8mxsh"
      },
      "outputs": [],
      "source": [
        "from sklearn.linear_model import LinearRegression\n",
        "from sklearn.preprocessing import OneHotEncoder\n",
        "from sklearn.compose import make_column_transformer\n",
        "from sklearn.pipeline import make_pipeline\n",
        "from sklearn.metrics import r2_score"
      ]
    },
    {
      "cell_type": "code",
      "execution_count": 46,
      "metadata": {
        "colab": {
          "base_uri": "https://localhost:8080/"
        },
        "id": "I5dyo5fbmxu8",
        "outputId": "fbef4359-d21b-4abb-96de-9a13192be1d0"
      },
      "outputs": [
        {
          "data": {
            "text/html": [
              "<style>#sk-container-id-3 {color: black;background-color: white;}#sk-container-id-3 pre{padding: 0;}#sk-container-id-3 div.sk-toggleable {background-color: white;}#sk-container-id-3 label.sk-toggleable__label {cursor: pointer;display: block;width: 100%;margin-bottom: 0;padding: 0.3em;box-sizing: border-box;text-align: center;}#sk-container-id-3 label.sk-toggleable__label-arrow:before {content: \"▸\";float: left;margin-right: 0.25em;color: #696969;}#sk-container-id-3 label.sk-toggleable__label-arrow:hover:before {color: black;}#sk-container-id-3 div.sk-estimator:hover label.sk-toggleable__label-arrow:before {color: black;}#sk-container-id-3 div.sk-toggleable__content {max-height: 0;max-width: 0;overflow: hidden;text-align: left;background-color: #f0f8ff;}#sk-container-id-3 div.sk-toggleable__content pre {margin: 0.2em;color: black;border-radius: 0.25em;background-color: #f0f8ff;}#sk-container-id-3 input.sk-toggleable__control:checked~div.sk-toggleable__content {max-height: 200px;max-width: 100%;overflow: auto;}#sk-container-id-3 input.sk-toggleable__control:checked~label.sk-toggleable__label-arrow:before {content: \"▾\";}#sk-container-id-3 div.sk-estimator input.sk-toggleable__control:checked~label.sk-toggleable__label {background-color: #d4ebff;}#sk-container-id-3 div.sk-label input.sk-toggleable__control:checked~label.sk-toggleable__label {background-color: #d4ebff;}#sk-container-id-3 input.sk-hidden--visually {border: 0;clip: rect(1px 1px 1px 1px);clip: rect(1px, 1px, 1px, 1px);height: 1px;margin: -1px;overflow: hidden;padding: 0;position: absolute;width: 1px;}#sk-container-id-3 div.sk-estimator {font-family: monospace;background-color: #f0f8ff;border: 1px dotted black;border-radius: 0.25em;box-sizing: border-box;margin-bottom: 0.5em;}#sk-container-id-3 div.sk-estimator:hover {background-color: #d4ebff;}#sk-container-id-3 div.sk-parallel-item::after {content: \"\";width: 100%;border-bottom: 1px solid gray;flex-grow: 1;}#sk-container-id-3 div.sk-label:hover label.sk-toggleable__label {background-color: #d4ebff;}#sk-container-id-3 div.sk-serial::before {content: \"\";position: absolute;border-left: 1px solid gray;box-sizing: border-box;top: 0;bottom: 0;left: 50%;z-index: 0;}#sk-container-id-3 div.sk-serial {display: flex;flex-direction: column;align-items: center;background-color: white;padding-right: 0.2em;padding-left: 0.2em;position: relative;}#sk-container-id-3 div.sk-item {position: relative;z-index: 1;}#sk-container-id-3 div.sk-parallel {display: flex;align-items: stretch;justify-content: center;background-color: white;position: relative;}#sk-container-id-3 div.sk-item::before, #sk-container-id-3 div.sk-parallel-item::before {content: \"\";position: absolute;border-left: 1px solid gray;box-sizing: border-box;top: 0;bottom: 0;left: 50%;z-index: -1;}#sk-container-id-3 div.sk-parallel-item {display: flex;flex-direction: column;z-index: 1;position: relative;background-color: white;}#sk-container-id-3 div.sk-parallel-item:first-child::after {align-self: flex-end;width: 50%;}#sk-container-id-3 div.sk-parallel-item:last-child::after {align-self: flex-start;width: 50%;}#sk-container-id-3 div.sk-parallel-item:only-child::after {width: 0;}#sk-container-id-3 div.sk-dashed-wrapped {border: 1px dashed gray;margin: 0 0.4em 0.5em 0.4em;box-sizing: border-box;padding-bottom: 0.4em;background-color: white;}#sk-container-id-3 div.sk-label label {font-family: monospace;font-weight: bold;display: inline-block;line-height: 1.2em;}#sk-container-id-3 div.sk-label-container {text-align: center;}#sk-container-id-3 div.sk-container {/* jupyter's `normalize.less` sets `[hidden] { display: none; }` but bootstrap.min.css set `[hidden] { display: none !important; }` so we also need the `!important` here to be able to override the default hidden behavior on the sphinx rendered scikit-learn.org. See: https://github.com/scikit-learn/scikit-learn/issues/21755 */display: inline-block !important;position: relative;}#sk-container-id-3 div.sk-text-repr-fallback {display: none;}</style><div id=\"sk-container-id-3\" class=\"sk-top-container\"><div class=\"sk-text-repr-fallback\"><pre>OneHotEncoder()</pre><b>In a Jupyter environment, please rerun this cell to show the HTML representation or trust the notebook. <br />On GitHub, the HTML representation is unable to render, please try loading this page with nbviewer.org.</b></div><div class=\"sk-container\" hidden><div class=\"sk-item\"><div class=\"sk-estimator sk-toggleable\"><input class=\"sk-toggleable__control sk-hidden--visually\" id=\"sk-estimator-id-9\" type=\"checkbox\" checked><label for=\"sk-estimator-id-9\" class=\"sk-toggleable__label sk-toggleable__label-arrow\">OneHotEncoder</label><div class=\"sk-toggleable__content\"><pre>OneHotEncoder()</pre></div></div></div></div></div>"
            ],
            "text/plain": [
              "OneHotEncoder()"
            ]
          },
          "execution_count": 46,
          "metadata": {},
          "output_type": "execute_result"
        }
      ],
      "source": [
        "ohe = OneHotEncoder()\n",
        "ohe.fit(X[['Brand','Model', 'Location','Fuel_Type','Owner_Type']])"
      ]
    },
    {
      "cell_type": "code",
      "execution_count": 47,
      "metadata": {
        "colab": {
          "base_uri": "https://localhost:8080/"
        },
        "id": "8Q8k-CHemxxj",
        "outputId": "48a40c4a-28a9-4eb0-bc38-088001e5a6ef"
      },
      "outputs": [
        {
          "data": {
            "text/plain": [
              "[array(['Ambassador', 'Audi', 'BMW', 'Bentley', 'Chevrolet', 'Datsun',\n",
              "        'Fiat', 'Force', 'Ford', 'Honda', 'Hyundai', 'ISUZU', 'Isuzu',\n",
              "        'Jaguar', 'Jeep', 'Lamborghini', 'Land', 'Mahindra', 'Maruti',\n",
              "        'Mercedes-Benz', 'Mini', 'Mitsubishi', 'Nissan', 'Porsche',\n",
              "        'Renault', 'Skoda', 'Smart', 'Tata', 'Toyota', 'Volkswagen',\n",
              "        'Volvo'], dtype=object),\n",
              " array(['1 Series', '1000 AC', '3 Series', '5 Series', '6 Series',\n",
              "        '7 Series', '800 AC', '800 DX', '800 Std', 'A Class', 'A-Star AT',\n",
              "        'A-Star Lxi', 'A-Star Vxi', 'A3 35', 'A4 1.8', 'A4 2.0', 'A4 3.0',\n",
              "        'A4 3.2', 'A4 30', 'A4 35', 'A4 New', 'A6 2.0', 'A6 2.7', 'A6 2.8',\n",
              "        'A6 2011-2015', 'A6 3.0', 'A6 35', 'A7 2011-2015', 'A8 L',\n",
              "        'Accent CRDi', 'Accent Executive', 'Accent GLE', 'Accent GLS',\n",
              "        'Accord 2.4', 'Accord 2001-2003', 'Accord V6', 'Accord VTi-L',\n",
              "        'Alto 800', 'Alto Green', 'Alto K10', 'Alto LX', 'Alto LXI',\n",
              "        'Alto LXi', 'Alto Std', 'Alto VXi', 'Alto Vxi', 'Amaze E',\n",
              "        'Amaze EX', 'Amaze S', 'Amaze SX', 'Amaze V', 'Amaze VX',\n",
              "        'Ameo 1.2', 'Ameo 1.5', 'Aspire Ambiente', 'Aspire Titanium',\n",
              "        'Aveo 1.4', 'Aveo 1.6', 'Aveo U-VA', 'Avventura MULTIJET',\n",
              "        'B Class', 'BR-V i-DTEC', 'BR-V i-VTEC', 'BRV i-VTEC',\n",
              "        'Baleno Alpha', 'Baleno Delta', 'Baleno LXI', 'Baleno RS',\n",
              "        'Baleno Sigma', 'Baleno Vxi', 'Baleno Zeta', 'Beat Diesel',\n",
              "        'Beat LS', 'Beat LT', 'Beat Option', 'Beetle 2.0', 'Bolero DI',\n",
              "        'Bolero SLE', 'Bolero SLX', 'Bolero VLX', 'Bolero ZLX',\n",
              "        'Bolero mHAWK', 'Bolt Quadrajet', 'Bolt Revotron', 'Boxster S',\n",
              "        'Brio 1.2', 'Brio E', 'Brio EX', 'Brio S', 'Brio V', 'Brio VX',\n",
              "        'C-Class Progressive', 'CLA 200', 'CLS-Class 2006-2010',\n",
              "        'CR-V 2.0', 'CR-V 2.0L', 'CR-V 2.4', 'CR-V 2.4L', 'CR-V Petrol',\n",
              "        'CR-V RVi', 'CR-V Sport', 'Camry 2.5', 'Camry A/T', 'Camry Hybrid',\n",
              "        'Camry W2', 'Camry W4', 'Captiva LT', 'Captiva LTZ', 'Captur 1.5',\n",
              "        'Cayenne 2009-2014', 'Cayenne Base', 'Cayenne Diesel', 'Cayenne S',\n",
              "        'Cayenne Turbo', 'Cayman 2009-2012', 'Cedia Sports', 'Celerio CNG',\n",
              "        'Celerio LDi', 'Celerio LXI', 'Celerio VXI', 'Celerio ZDi',\n",
              "        'Celerio ZXI', 'Ciaz 1.3', 'Ciaz 1.4', 'Ciaz AT', 'Ciaz Alpha',\n",
              "        'Ciaz RS', 'Ciaz VDI', 'Ciaz VDi', 'Ciaz VXi', 'Ciaz ZDi',\n",
              "        'Ciaz ZXi', 'Ciaz Zeta', 'City 1.3', 'City 1.5', 'City Corporate',\n",
              "        'City V', 'City ZX', 'City i', 'City i-DTEC', 'City i-VTEC',\n",
              "        'Civic 2006-2010', 'Civic 2010-2013', 'Classic 1.4',\n",
              "        'Classic Nova', 'Clubman Cooper', 'Compass 1.4', 'Compass 2.0',\n",
              "        'Continental Flying', 'Cooper 3', 'Cooper 5', 'Cooper Convertible',\n",
              "        'Cooper Countryman', 'Cooper S', 'Corolla 1.8', 'Corolla Altis',\n",
              "        'Corolla DX', 'Corolla Executive', 'Corolla H2', 'Corolla H4',\n",
              "        'Corolla H5', 'Countryman Cooper', 'Creta 1.4', 'Creta 1.6',\n",
              "        'CrossPolo 1.5', 'Cruze LTZ', 'D-MAX V-Cross', 'Duster 110PS',\n",
              "        'Duster 85PS', 'Duster Adventure', 'Duster Petrol', 'Duster RXZ',\n",
              "        'Dzire AMT', 'Dzire LDI', 'Dzire New', 'Dzire VDI', 'Dzire VXI',\n",
              "        'Dzire ZDI', 'E-Class 200', 'E-Class 2009-2013',\n",
              "        'E-Class 2015-2017', 'E-Class 220', 'E-Class 230', 'E-Class 250',\n",
              "        'E-Class 280', 'E-Class E', 'E-Class E250', 'E-Class E270',\n",
              "        'E-Class E350', 'E-Class E400', 'E-Class Facelift', 'EON 1.0',\n",
              "        'EON D', 'EON Era', 'EON LPG', 'EON Magna', 'EON Sportz',\n",
              "        'EcoSport 1.0', 'EcoSport 1.5', 'Ecosport 1.0', 'Ecosport 1.5',\n",
              "        'Ecosport Signature', 'Eeco 5', 'Eeco 7', 'Eeco CNG',\n",
              "        'Eeco Smiles', 'Elantra 1.6', 'Elantra 2.0', 'Elantra CRDi',\n",
              "        'Elantra SX', 'Elite i20', 'Endeavour 2.2', 'Endeavour 2.5L',\n",
              "        'Endeavour 3.0L', 'Endeavour 3.2', 'Endeavour 4x2',\n",
              "        'Endeavour Hurricane', 'Endeavour Titanium', 'Endeavour XLT',\n",
              "        'Enjoy 1.3', 'Enjoy 1.4', 'Enjoy Petrol', 'Enjoy TCDi',\n",
              "        'Ertiga LXI', 'Ertiga Paseo', 'Ertiga SHVS', 'Ertiga VDI',\n",
              "        'Ertiga VXI', 'Ertiga ZDI', 'Ertiga ZXI', 'Esteem LX',\n",
              "        'Esteem Vxi', 'Estilo LXI', 'Etios 1.4', 'Etios Cross', 'Etios G',\n",
              "        'Etios GD', 'Etios Liva', 'Etios Petrol', 'Etios V', 'Etios VD',\n",
              "        'Etios VX', 'Etios VXD', 'Evalia 2013', 'F Type', 'Fabia 1.2',\n",
              "        'Fabia 1.2L', 'Fabia 1.4', 'Fabia 1.6', 'Fiesta 1.4', 'Fiesta 1.5',\n",
              "        'Fiesta 1.6', 'Fiesta Classic', 'Fiesta Diesel', 'Fiesta EXi',\n",
              "        'Fiesta Titanium', 'Figo 1.2P', 'Figo 1.5D', 'Figo 2015-2019',\n",
              "        'Figo Aspire', 'Figo Diesel', 'Figo Petrol', 'Figo Titanium',\n",
              "        'Fluence 1.5', 'Fluence 2.0', 'Fluence Diesel', 'Fortuner 2.8',\n",
              "        'Fortuner 3.0', 'Fortuner 4x2', 'Fortuner 4x4', 'Fortuner TRD',\n",
              "        'Fortwo CDI', 'Freestyle Titanium', 'Fusion Plus', 'GL-Class 2007',\n",
              "        'GL-Class 350', 'GLA Class', 'GLC 220', 'GLC 220d', 'GLC 43',\n",
              "        'GLE 250d', 'GLE 350d', 'GLS 350d', 'GO NXT', 'GO Plus', 'GO T',\n",
              "        'Gallardo Coupe', 'Getz 1.3', 'Getz 1.5', 'Getz GLE', 'Getz GLS',\n",
              "        'Getz GVS', 'Grand Vitara', 'Grand i10', 'Grande Punto', 'Hexa XT',\n",
              "        'Hexa XTA', 'Ignis 1.2', 'Ignis 1.3', 'Ikon 1.3', 'Ikon 1.4',\n",
              "        'Ikon 1.6', 'Indica DLS', 'Indica GLS', 'Indica LEI', 'Indica V2',\n",
              "        'Indica Vista', 'Indigo CS', 'Indigo GLE', 'Indigo LS',\n",
              "        'Indigo LX', 'Indigo XL', 'Indigo eCS', 'Innova 2.0', 'Innova 2.5',\n",
              "        'Innova Crysta', 'Jazz 1.2', 'Jazz 1.5', 'Jazz Active',\n",
              "        'Jazz Exclusive', 'Jazz Mode', 'Jazz S', 'Jazz Select', 'Jazz V',\n",
              "        'Jazz VX', 'Jeep MM', 'Jetta 2007-2011', 'Jetta 2012-2014',\n",
              "        'Jetta 2013-2015', 'KUV 100', 'KWID 1.0', 'KWID AMT',\n",
              "        'KWID Climber', 'KWID RXL', 'KWID RXT', 'Koleos 2.0', 'Lancer 1.5',\n",
              "        'Lancer GLXD', 'Laura 1.8', 'Laura 1.9', 'Laura Ambiente',\n",
              "        'Laura Ambition', 'Laura Classic', 'Laura Elegance', 'Laura L',\n",
              "        'Laura RS', 'Linea 1.3', 'Linea Classic', 'Linea Emotion',\n",
              "        'Linea T', 'Linea T-Jet', 'Lodgy 110PS', 'Logan Diesel',\n",
              "        'Logan Petrol', 'M-Class ML', 'MUX 4WD', 'Manza Aqua',\n",
              "        'Manza Aura', 'Manza Club', 'Manza ELAN', 'Micra Active',\n",
              "        'Micra Diesel', 'Micra XE', 'Micra XL', 'Micra XV', 'Mobilio E',\n",
              "        'Mobilio RS', 'Mobilio S', 'Mobilio V', 'Montero 3.2',\n",
              "        'Mustang V8', 'Nano CX', 'Nano Cx', 'Nano LX', 'Nano Lx',\n",
              "        'Nano STD', 'Nano Twist', 'Nano XT', 'Nano XTA', 'New C-Class',\n",
              "        'New Safari', 'Nexon 1.2', 'Nexon 1.5', 'NuvoSport N6',\n",
              "        'NuvoSport N8', 'Octavia 1.9', 'Octavia 2.0', 'Octavia Ambiente',\n",
              "        'Octavia Ambition', 'Octavia Classic', 'Octavia Elegance',\n",
              "        'Octavia L', 'Octavia RS', 'Octavia Rider', 'Octavia Style',\n",
              "        'Omni 5', 'Omni 8', 'Omni E', 'Omni MPI', 'One LX', 'Optra 1.6',\n",
              "        'Optra Magnum', 'Outlander 2.4', 'Pajero 2.8', 'Pajero 4X4',\n",
              "        'Pajero Sport', 'Panamera 2010', 'Panamera Diesel', 'Passat 1.8',\n",
              "        'Passat 2.0', 'Passat Diesel', 'Passat Highline', 'Petra 1.2',\n",
              "        'Platinum Etios', 'Polo 1.0', 'Polo 1.2', 'Polo 1.5',\n",
              "        'Polo Diesel', 'Polo GT', 'Polo GTI', 'Polo IPL', 'Polo Petrol',\n",
              "        'Pulse Petrol', 'Pulse RxL', 'Punto EVO', 'Q3 2.0', 'Q3 2012-2015',\n",
              "        'Q3 30', 'Q3 35', 'Q5 2.0', 'Q5 2008-2012', 'Q5 3.0', 'Q5 30',\n",
              "        'Q7 3.0', 'Q7 35', 'Q7 4.2', 'Q7 45', 'Qualis FS', 'Qualis Fleet',\n",
              "        'Qualis RS', 'Quanto C2', 'Quanto C4', 'Quanto C6', 'Quanto C8',\n",
              "        'R-Class R350', 'RS5 Coupe', 'Rapid 1.5', 'Rapid 1.6',\n",
              "        'Rapid 2013-2016', 'Rapid Leisure', 'Rapid Ultima', 'Redi GO',\n",
              "        'Renault Logan', 'Ritz AT', 'Ritz LDi', 'Ritz LXI', 'Ritz LXi',\n",
              "        'Ritz VDI', 'Ritz VDi', 'Ritz VXI', 'Ritz VXi', 'Ritz ZDi',\n",
              "        'Ritz ZXI', 'Ritz ZXi', 'Rover Discovery', 'Rover Freelander',\n",
              "        'Rover Range', 'S Class', 'S Cross', 'S-Class 280', 'S-Class 320',\n",
              "        'S-Class S', 'S-Cross Alpha', 'S-Cross Delta', 'S-Cross Zeta',\n",
              "        'S60 D3', 'S60 D4', 'S60 D5', 'S80 2006-2013', 'S80 D5',\n",
              "        'SL-Class SL', 'SLC 43', 'SLK-Class 55', 'SLK-Class SLK',\n",
              "        'SX4 Green', 'SX4 S', 'SX4 VDI', 'SX4 Vxi', 'SX4 ZDI', 'SX4 ZXI',\n",
              "        'SX4 Zxi', 'Safari DICOR', 'Safari Storme', 'Sail 1.2',\n",
              "        'Sail Hatchback', 'Sail LT', 'Santa Fe', 'Santro AT', 'Santro D',\n",
              "        'Santro DX', 'Santro GLS', 'Santro GS', 'Santro LP', 'Santro LS',\n",
              "        'Santro Xing', 'Scala Diesel', 'Scala RxL', 'Scorpio 1.99',\n",
              "        'Scorpio 2.6', 'Scorpio 2009-2014', 'Scorpio DX', 'Scorpio LX',\n",
              "        'Scorpio S10', 'Scorpio S2', 'Scorpio S4', 'Scorpio S6',\n",
              "        'Scorpio S8', 'Scorpio SLE', 'Scorpio SLX', 'Scorpio VLX',\n",
              "        'Siena 1.2', 'Sonata 2.4', 'Sonata Embera', 'Sonata GOLD',\n",
              "        'Sonata Transform', 'Spark 1.0', 'Ssangyong Rexton', 'Sumo DX',\n",
              "        'Sumo Delux', 'Sumo EX', 'Sunny 2011-2014', 'Sunny Diesel',\n",
              "        'Sunny XE', 'Sunny XL', 'Sunny XV', 'Superb 1.8', 'Superb 2.5',\n",
              "        'Superb 2.8', 'Superb 2009-2014', 'Superb 3.6', 'Superb Ambition',\n",
              "        'Superb Elegance', 'Superb L&K', 'Superb Style', 'Swift AMT',\n",
              "        'Swift DDiS', 'Swift Dzire', 'Swift LDI', 'Swift LXI', 'Swift LXi',\n",
              "        'Swift Ldi', 'Swift Lxi', 'Swift RS', 'Swift VDI', 'Swift VDi',\n",
              "        'Swift VVT', 'Swift VXI', 'Swift VXi', 'Swift Vdi', 'Swift ZDI',\n",
              "        'Swift ZDi', 'Swift ZXI', 'TT 2.0', 'TT 40', 'TUV 300',\n",
              "        'Tavera LS', 'Tavera LT', 'Teana 230jM', 'Teana XV', 'Terrano XL',\n",
              "        'Terrano XV', 'Thar CRDe', 'Thar DI', 'Tiago 1.2', 'Tiago AMT',\n",
              "        'Tiago Wizz', 'Tigor 1.05', 'Tigor 1.2', 'Tigor XE', 'Tiguan 2.0',\n",
              "        'Tucson 2.0', 'Tucson CRDi', 'V40 Cross', 'V40 D3', 'Vento 1.2',\n",
              "        'Vento 1.5', 'Vento 1.6', 'Vento 2013-2015', 'Vento Diesel',\n",
              "        'Vento IPL', 'Vento Konekt', 'Vento Magnific', 'Vento Petrol',\n",
              "        'Vento Sport', 'Vento TSI', 'Venture EX', 'Verito 1.5',\n",
              "        'Verna 1.4', 'Verna 1.6', 'Verna CRDi', 'Verna SX',\n",
              "        'Verna Transform', 'Verna VTVT', 'Verna XXi', 'Verna Xi',\n",
              "        'Versa DX2', 'Vitara Brezza', 'WR-V Edge', 'WRV i-VTEC', 'Wagon R',\n",
              "        'X-Trail SLX', 'X1 M', 'X1 sDrive', 'X1 sDrive20d', 'X1 xDrive',\n",
              "        'X3 xDrive', 'X3 xDrive20d', 'X3 xDrive30d', 'X5 2014-2019',\n",
              "        'X5 3.0d', 'X5 X5', 'X5 xDrive', 'X6 xDrive', 'X6 xDrive30d',\n",
              "        'XC60 D4', 'XC60 D5', 'XC90 2007-2015', 'XE 2.0L', 'XE Portfolio',\n",
              "        'XF 2.0', 'XF 2.2', 'XF 3.0', 'XF Aero', 'XF Diesel', 'XJ 2.0L',\n",
              "        'XJ 3.0L', 'XJ 5.0', 'XUV300 W8', 'XUV500 AT', 'XUV500 W10',\n",
              "        'XUV500 W4', 'XUV500 W6', 'XUV500 W7', 'XUV500 W8', 'XUV500 W9',\n",
              "        'Xcent 1.1', 'Xcent 1.2', 'Xenon XT', 'Xylo D2', 'Xylo D4',\n",
              "        'Xylo E2', 'Xylo E4', 'Xylo E8', 'Xylo H4', 'Yeti Ambition',\n",
              "        'Yeti Elegance', 'Z4 2009-2013', 'Zen Estilo', 'Zen LX', 'Zen LXI',\n",
              "        'Zen LXi', 'Zen VX', 'Zen VXI', 'Zen VXi', 'Zest Quadrajet',\n",
              "        'Zest Revotron', 'i10 Asta', 'i10 Era', 'i10 Magna',\n",
              "        'i10 Magna(O)', 'i10 Sportz', 'i20 1.2', 'i20 1.4',\n",
              "        'i20 2015-2017', 'i20 Active', 'i20 Asta', 'i20 Diesel', 'i20 Era',\n",
              "        'i20 Magna', 'i20 Sportz', 'redi-GO S', 'redi-GO T'], dtype=object),\n",
              " array(['Ahmedabad', 'Bangalore', 'Chennai', 'Coimbatore', 'Delhi',\n",
              "        'Hyderabad', 'Jaipur', 'Kochi', 'Kolkata', 'Mumbai', 'Pune'],\n",
              "       dtype=object),\n",
              " array(['CNG', 'Diesel', 'LPG', 'Petrol'], dtype=object),\n",
              " array(['First', 'Fourth & Above', 'Second', 'Third'], dtype=object)]"
            ]
          },
          "execution_count": 47,
          "metadata": {},
          "output_type": "execute_result"
        }
      ],
      "source": [
        "ohe.categories_"
      ]
    },
    {
      "cell_type": "code",
      "execution_count": 48,
      "metadata": {
        "id": "ZsYzLiPDmx0B"
      },
      "outputs": [],
      "source": [
        "column_trans=make_column_transformer((OneHotEncoder(categories=ohe.categories_),['Brand','Model', 'Location','Fuel_Type','Owner_Type']),remainder='passthrough')"
      ]
    },
    {
      "cell_type": "code",
      "execution_count": 49,
      "metadata": {
        "id": "MnG6nRR2mx2q"
      },
      "outputs": [],
      "source": [
        "reg=LinearRegression()"
      ]
    },
    {
      "cell_type": "code",
      "execution_count": 50,
      "metadata": {
        "id": "YzeCCD0amx49"
      },
      "outputs": [],
      "source": [
        "pipe=make_pipeline(column_trans,reg)"
      ]
    },
    {
      "cell_type": "code",
      "execution_count": 51,
      "metadata": {
        "colab": {
          "base_uri": "https://localhost:8080/"
        },
        "id": "0VZ8YiPrmx7X",
        "outputId": "7d7d3eb8-c8be-4257-980e-6e9471c8ba41"
      },
      "outputs": [
        {
          "data": {
            "text/html": [
              "<style>#sk-container-id-4 {color: black;background-color: white;}#sk-container-id-4 pre{padding: 0;}#sk-container-id-4 div.sk-toggleable {background-color: white;}#sk-container-id-4 label.sk-toggleable__label {cursor: pointer;display: block;width: 100%;margin-bottom: 0;padding: 0.3em;box-sizing: border-box;text-align: center;}#sk-container-id-4 label.sk-toggleable__label-arrow:before {content: \"▸\";float: left;margin-right: 0.25em;color: #696969;}#sk-container-id-4 label.sk-toggleable__label-arrow:hover:before {color: black;}#sk-container-id-4 div.sk-estimator:hover label.sk-toggleable__label-arrow:before {color: black;}#sk-container-id-4 div.sk-toggleable__content {max-height: 0;max-width: 0;overflow: hidden;text-align: left;background-color: #f0f8ff;}#sk-container-id-4 div.sk-toggleable__content pre {margin: 0.2em;color: black;border-radius: 0.25em;background-color: #f0f8ff;}#sk-container-id-4 input.sk-toggleable__control:checked~div.sk-toggleable__content {max-height: 200px;max-width: 100%;overflow: auto;}#sk-container-id-4 input.sk-toggleable__control:checked~label.sk-toggleable__label-arrow:before {content: \"▾\";}#sk-container-id-4 div.sk-estimator input.sk-toggleable__control:checked~label.sk-toggleable__label {background-color: #d4ebff;}#sk-container-id-4 div.sk-label input.sk-toggleable__control:checked~label.sk-toggleable__label {background-color: #d4ebff;}#sk-container-id-4 input.sk-hidden--visually {border: 0;clip: rect(1px 1px 1px 1px);clip: rect(1px, 1px, 1px, 1px);height: 1px;margin: -1px;overflow: hidden;padding: 0;position: absolute;width: 1px;}#sk-container-id-4 div.sk-estimator {font-family: monospace;background-color: #f0f8ff;border: 1px dotted black;border-radius: 0.25em;box-sizing: border-box;margin-bottom: 0.5em;}#sk-container-id-4 div.sk-estimator:hover {background-color: #d4ebff;}#sk-container-id-4 div.sk-parallel-item::after {content: \"\";width: 100%;border-bottom: 1px solid gray;flex-grow: 1;}#sk-container-id-4 div.sk-label:hover label.sk-toggleable__label {background-color: #d4ebff;}#sk-container-id-4 div.sk-serial::before {content: \"\";position: absolute;border-left: 1px solid gray;box-sizing: border-box;top: 0;bottom: 0;left: 50%;z-index: 0;}#sk-container-id-4 div.sk-serial {display: flex;flex-direction: column;align-items: center;background-color: white;padding-right: 0.2em;padding-left: 0.2em;position: relative;}#sk-container-id-4 div.sk-item {position: relative;z-index: 1;}#sk-container-id-4 div.sk-parallel {display: flex;align-items: stretch;justify-content: center;background-color: white;position: relative;}#sk-container-id-4 div.sk-item::before, #sk-container-id-4 div.sk-parallel-item::before {content: \"\";position: absolute;border-left: 1px solid gray;box-sizing: border-box;top: 0;bottom: 0;left: 50%;z-index: -1;}#sk-container-id-4 div.sk-parallel-item {display: flex;flex-direction: column;z-index: 1;position: relative;background-color: white;}#sk-container-id-4 div.sk-parallel-item:first-child::after {align-self: flex-end;width: 50%;}#sk-container-id-4 div.sk-parallel-item:last-child::after {align-self: flex-start;width: 50%;}#sk-container-id-4 div.sk-parallel-item:only-child::after {width: 0;}#sk-container-id-4 div.sk-dashed-wrapped {border: 1px dashed gray;margin: 0 0.4em 0.5em 0.4em;box-sizing: border-box;padding-bottom: 0.4em;background-color: white;}#sk-container-id-4 div.sk-label label {font-family: monospace;font-weight: bold;display: inline-block;line-height: 1.2em;}#sk-container-id-4 div.sk-label-container {text-align: center;}#sk-container-id-4 div.sk-container {/* jupyter's `normalize.less` sets `[hidden] { display: none; }` but bootstrap.min.css set `[hidden] { display: none !important; }` so we also need the `!important` here to be able to override the default hidden behavior on the sphinx rendered scikit-learn.org. See: https://github.com/scikit-learn/scikit-learn/issues/21755 */display: inline-block !important;position: relative;}#sk-container-id-4 div.sk-text-repr-fallback {display: none;}</style><div id=\"sk-container-id-4\" class=\"sk-top-container\"><div class=\"sk-text-repr-fallback\"><pre>Pipeline(steps=[(&#x27;columntransformer&#x27;,\n",
              "                 ColumnTransformer(remainder=&#x27;passthrough&#x27;,\n",
              "                                   transformers=[(&#x27;onehotencoder&#x27;,\n",
              "                                                  OneHotEncoder(categories=[array([&#x27;Ambassador&#x27;, &#x27;Audi&#x27;, &#x27;BMW&#x27;, &#x27;Bentley&#x27;, &#x27;Chevrolet&#x27;, &#x27;Datsun&#x27;,\n",
              "       &#x27;Fiat&#x27;, &#x27;Force&#x27;, &#x27;Ford&#x27;, &#x27;Honda&#x27;, &#x27;Hyundai&#x27;, &#x27;ISUZU&#x27;, &#x27;Isuzu&#x27;,\n",
              "       &#x27;Jaguar&#x27;, &#x27;Jeep&#x27;, &#x27;Lamborghini&#x27;, &#x27;Land&#x27;, &#x27;Mahindra&#x27;, &#x27;Maruti&#x27;,\n",
              "       &#x27;Mercedes-Benz&#x27;, &#x27;Mini&#x27;, &#x27;Mitsubishi&#x27;, &#x27;...\n",
              "       &#x27;i20 Magna&#x27;, &#x27;i20 Sportz&#x27;, &#x27;redi-GO S&#x27;, &#x27;redi-GO T&#x27;], dtype=object),\n",
              "                                                                            array([&#x27;Ahmedabad&#x27;, &#x27;Bangalore&#x27;, &#x27;Chennai&#x27;, &#x27;Coimbatore&#x27;, &#x27;Delhi&#x27;,\n",
              "       &#x27;Hyderabad&#x27;, &#x27;Jaipur&#x27;, &#x27;Kochi&#x27;, &#x27;Kolkata&#x27;, &#x27;Mumbai&#x27;, &#x27;Pune&#x27;],\n",
              "      dtype=object),\n",
              "                                                                            array([&#x27;CNG&#x27;, &#x27;Diesel&#x27;, &#x27;LPG&#x27;, &#x27;Petrol&#x27;], dtype=object),\n",
              "                                                                            array([&#x27;First&#x27;, &#x27;Fourth &amp; Above&#x27;, &#x27;Second&#x27;, &#x27;Third&#x27;], dtype=object)]),\n",
              "                                                  [&#x27;Brand&#x27;, &#x27;Model&#x27;, &#x27;Location&#x27;,\n",
              "                                                   &#x27;Fuel_Type&#x27;,\n",
              "                                                   &#x27;Owner_Type&#x27;])])),\n",
              "                (&#x27;linearregression&#x27;, LinearRegression())])</pre><b>In a Jupyter environment, please rerun this cell to show the HTML representation or trust the notebook. <br />On GitHub, the HTML representation is unable to render, please try loading this page with nbviewer.org.</b></div><div class=\"sk-container\" hidden><div class=\"sk-item sk-dashed-wrapped\"><div class=\"sk-label-container\"><div class=\"sk-label sk-toggleable\"><input class=\"sk-toggleable__control sk-hidden--visually\" id=\"sk-estimator-id-10\" type=\"checkbox\" ><label for=\"sk-estimator-id-10\" class=\"sk-toggleable__label sk-toggleable__label-arrow\">Pipeline</label><div class=\"sk-toggleable__content\"><pre>Pipeline(steps=[(&#x27;columntransformer&#x27;,\n",
              "                 ColumnTransformer(remainder=&#x27;passthrough&#x27;,\n",
              "                                   transformers=[(&#x27;onehotencoder&#x27;,\n",
              "                                                  OneHotEncoder(categories=[array([&#x27;Ambassador&#x27;, &#x27;Audi&#x27;, &#x27;BMW&#x27;, &#x27;Bentley&#x27;, &#x27;Chevrolet&#x27;, &#x27;Datsun&#x27;,\n",
              "       &#x27;Fiat&#x27;, &#x27;Force&#x27;, &#x27;Ford&#x27;, &#x27;Honda&#x27;, &#x27;Hyundai&#x27;, &#x27;ISUZU&#x27;, &#x27;Isuzu&#x27;,\n",
              "       &#x27;Jaguar&#x27;, &#x27;Jeep&#x27;, &#x27;Lamborghini&#x27;, &#x27;Land&#x27;, &#x27;Mahindra&#x27;, &#x27;Maruti&#x27;,\n",
              "       &#x27;Mercedes-Benz&#x27;, &#x27;Mini&#x27;, &#x27;Mitsubishi&#x27;, &#x27;...\n",
              "       &#x27;i20 Magna&#x27;, &#x27;i20 Sportz&#x27;, &#x27;redi-GO S&#x27;, &#x27;redi-GO T&#x27;], dtype=object),\n",
              "                                                                            array([&#x27;Ahmedabad&#x27;, &#x27;Bangalore&#x27;, &#x27;Chennai&#x27;, &#x27;Coimbatore&#x27;, &#x27;Delhi&#x27;,\n",
              "       &#x27;Hyderabad&#x27;, &#x27;Jaipur&#x27;, &#x27;Kochi&#x27;, &#x27;Kolkata&#x27;, &#x27;Mumbai&#x27;, &#x27;Pune&#x27;],\n",
              "      dtype=object),\n",
              "                                                                            array([&#x27;CNG&#x27;, &#x27;Diesel&#x27;, &#x27;LPG&#x27;, &#x27;Petrol&#x27;], dtype=object),\n",
              "                                                                            array([&#x27;First&#x27;, &#x27;Fourth &amp; Above&#x27;, &#x27;Second&#x27;, &#x27;Third&#x27;], dtype=object)]),\n",
              "                                                  [&#x27;Brand&#x27;, &#x27;Model&#x27;, &#x27;Location&#x27;,\n",
              "                                                   &#x27;Fuel_Type&#x27;,\n",
              "                                                   &#x27;Owner_Type&#x27;])])),\n",
              "                (&#x27;linearregression&#x27;, LinearRegression())])</pre></div></div></div><div class=\"sk-serial\"><div class=\"sk-item sk-dashed-wrapped\"><div class=\"sk-label-container\"><div class=\"sk-label sk-toggleable\"><input class=\"sk-toggleable__control sk-hidden--visually\" id=\"sk-estimator-id-11\" type=\"checkbox\" ><label for=\"sk-estimator-id-11\" class=\"sk-toggleable__label sk-toggleable__label-arrow\">columntransformer: ColumnTransformer</label><div class=\"sk-toggleable__content\"><pre>ColumnTransformer(remainder=&#x27;passthrough&#x27;,\n",
              "                  transformers=[(&#x27;onehotencoder&#x27;,\n",
              "                                 OneHotEncoder(categories=[array([&#x27;Ambassador&#x27;, &#x27;Audi&#x27;, &#x27;BMW&#x27;, &#x27;Bentley&#x27;, &#x27;Chevrolet&#x27;, &#x27;Datsun&#x27;,\n",
              "       &#x27;Fiat&#x27;, &#x27;Force&#x27;, &#x27;Ford&#x27;, &#x27;Honda&#x27;, &#x27;Hyundai&#x27;, &#x27;ISUZU&#x27;, &#x27;Isuzu&#x27;,\n",
              "       &#x27;Jaguar&#x27;, &#x27;Jeep&#x27;, &#x27;Lamborghini&#x27;, &#x27;Land&#x27;, &#x27;Mahindra&#x27;, &#x27;Maruti&#x27;,\n",
              "       &#x27;Mercedes-Benz&#x27;, &#x27;Mini&#x27;, &#x27;Mitsubishi&#x27;, &#x27;Nissan&#x27;, &#x27;Porsche&#x27;,\n",
              "       &#x27;Renault&#x27;, &#x27;Skoda&#x27;, &#x27;...\n",
              "       &#x27;i20 Magna&#x27;, &#x27;i20 Sportz&#x27;, &#x27;redi-GO S&#x27;, &#x27;redi-GO T&#x27;], dtype=object),\n",
              "                                                           array([&#x27;Ahmedabad&#x27;, &#x27;Bangalore&#x27;, &#x27;Chennai&#x27;, &#x27;Coimbatore&#x27;, &#x27;Delhi&#x27;,\n",
              "       &#x27;Hyderabad&#x27;, &#x27;Jaipur&#x27;, &#x27;Kochi&#x27;, &#x27;Kolkata&#x27;, &#x27;Mumbai&#x27;, &#x27;Pune&#x27;],\n",
              "      dtype=object),\n",
              "                                                           array([&#x27;CNG&#x27;, &#x27;Diesel&#x27;, &#x27;LPG&#x27;, &#x27;Petrol&#x27;], dtype=object),\n",
              "                                                           array([&#x27;First&#x27;, &#x27;Fourth &amp; Above&#x27;, &#x27;Second&#x27;, &#x27;Third&#x27;], dtype=object)]),\n",
              "                                 [&#x27;Brand&#x27;, &#x27;Model&#x27;, &#x27;Location&#x27;, &#x27;Fuel_Type&#x27;,\n",
              "                                  &#x27;Owner_Type&#x27;])])</pre></div></div></div><div class=\"sk-parallel\"><div class=\"sk-parallel-item\"><div class=\"sk-item\"><div class=\"sk-label-container\"><div class=\"sk-label sk-toggleable\"><input class=\"sk-toggleable__control sk-hidden--visually\" id=\"sk-estimator-id-12\" type=\"checkbox\" ><label for=\"sk-estimator-id-12\" class=\"sk-toggleable__label sk-toggleable__label-arrow\">onehotencoder</label><div class=\"sk-toggleable__content\"><pre>[&#x27;Brand&#x27;, &#x27;Model&#x27;, &#x27;Location&#x27;, &#x27;Fuel_Type&#x27;, &#x27;Owner_Type&#x27;]</pre></div></div></div><div class=\"sk-serial\"><div class=\"sk-item\"><div class=\"sk-estimator sk-toggleable\"><input class=\"sk-toggleable__control sk-hidden--visually\" id=\"sk-estimator-id-13\" type=\"checkbox\" ><label for=\"sk-estimator-id-13\" class=\"sk-toggleable__label sk-toggleable__label-arrow\">OneHotEncoder</label><div class=\"sk-toggleable__content\"><pre>OneHotEncoder(categories=[array([&#x27;Ambassador&#x27;, &#x27;Audi&#x27;, &#x27;BMW&#x27;, &#x27;Bentley&#x27;, &#x27;Chevrolet&#x27;, &#x27;Datsun&#x27;,\n",
              "       &#x27;Fiat&#x27;, &#x27;Force&#x27;, &#x27;Ford&#x27;, &#x27;Honda&#x27;, &#x27;Hyundai&#x27;, &#x27;ISUZU&#x27;, &#x27;Isuzu&#x27;,\n",
              "       &#x27;Jaguar&#x27;, &#x27;Jeep&#x27;, &#x27;Lamborghini&#x27;, &#x27;Land&#x27;, &#x27;Mahindra&#x27;, &#x27;Maruti&#x27;,\n",
              "       &#x27;Mercedes-Benz&#x27;, &#x27;Mini&#x27;, &#x27;Mitsubishi&#x27;, &#x27;Nissan&#x27;, &#x27;Porsche&#x27;,\n",
              "       &#x27;Renault&#x27;, &#x27;Skoda&#x27;, &#x27;Smart&#x27;, &#x27;Tata&#x27;, &#x27;Toyota&#x27;, &#x27;Volkswagen&#x27;,\n",
              "       &#x27;Volvo&#x27;], dtype=object),\n",
              "                          array([&#x27;1 Serie...\n",
              "       &#x27;i20 2015-2017&#x27;, &#x27;i20 Active&#x27;, &#x27;i20 Asta&#x27;, &#x27;i20 Diesel&#x27;, &#x27;i20 Era&#x27;,\n",
              "       &#x27;i20 Magna&#x27;, &#x27;i20 Sportz&#x27;, &#x27;redi-GO S&#x27;, &#x27;redi-GO T&#x27;], dtype=object),\n",
              "                          array([&#x27;Ahmedabad&#x27;, &#x27;Bangalore&#x27;, &#x27;Chennai&#x27;, &#x27;Coimbatore&#x27;, &#x27;Delhi&#x27;,\n",
              "       &#x27;Hyderabad&#x27;, &#x27;Jaipur&#x27;, &#x27;Kochi&#x27;, &#x27;Kolkata&#x27;, &#x27;Mumbai&#x27;, &#x27;Pune&#x27;],\n",
              "      dtype=object),\n",
              "                          array([&#x27;CNG&#x27;, &#x27;Diesel&#x27;, &#x27;LPG&#x27;, &#x27;Petrol&#x27;], dtype=object),\n",
              "                          array([&#x27;First&#x27;, &#x27;Fourth &amp; Above&#x27;, &#x27;Second&#x27;, &#x27;Third&#x27;], dtype=object)])</pre></div></div></div></div></div></div><div class=\"sk-parallel-item\"><div class=\"sk-item\"><div class=\"sk-label-container\"><div class=\"sk-label sk-toggleable\"><input class=\"sk-toggleable__control sk-hidden--visually\" id=\"sk-estimator-id-14\" type=\"checkbox\" ><label for=\"sk-estimator-id-14\" class=\"sk-toggleable__label sk-toggleable__label-arrow\">remainder</label><div class=\"sk-toggleable__content\"><pre>[&#x27;Year&#x27;, &#x27;Kilometers_Driven&#x27;, &#x27;Engine&#x27;, &#x27;Mileage&#x27;]</pre></div></div></div><div class=\"sk-serial\"><div class=\"sk-item\"><div class=\"sk-estimator sk-toggleable\"><input class=\"sk-toggleable__control sk-hidden--visually\" id=\"sk-estimator-id-15\" type=\"checkbox\" ><label for=\"sk-estimator-id-15\" class=\"sk-toggleable__label sk-toggleable__label-arrow\">passthrough</label><div class=\"sk-toggleable__content\"><pre>passthrough</pre></div></div></div></div></div></div></div></div><div class=\"sk-item\"><div class=\"sk-estimator sk-toggleable\"><input class=\"sk-toggleable__control sk-hidden--visually\" id=\"sk-estimator-id-16\" type=\"checkbox\" ><label for=\"sk-estimator-id-16\" class=\"sk-toggleable__label sk-toggleable__label-arrow\">LinearRegression</label><div class=\"sk-toggleable__content\"><pre>LinearRegression()</pre></div></div></div></div></div></div></div>"
            ],
            "text/plain": [
              "Pipeline(steps=[('columntransformer',\n",
              "                 ColumnTransformer(remainder='passthrough',\n",
              "                                   transformers=[('onehotencoder',\n",
              "                                                  OneHotEncoder(categories=[array(['Ambassador', 'Audi', 'BMW', 'Bentley', 'Chevrolet', 'Datsun',\n",
              "       'Fiat', 'Force', 'Ford', 'Honda', 'Hyundai', 'ISUZU', 'Isuzu',\n",
              "       'Jaguar', 'Jeep', 'Lamborghini', 'Land', 'Mahindra', 'Maruti',\n",
              "       'Mercedes-Benz', 'Mini', 'Mitsubishi', '...\n",
              "       'i20 Magna', 'i20 Sportz', 'redi-GO S', 'redi-GO T'], dtype=object),\n",
              "                                                                            array(['Ahmedabad', 'Bangalore', 'Chennai', 'Coimbatore', 'Delhi',\n",
              "       'Hyderabad', 'Jaipur', 'Kochi', 'Kolkata', 'Mumbai', 'Pune'],\n",
              "      dtype=object),\n",
              "                                                                            array(['CNG', 'Diesel', 'LPG', 'Petrol'], dtype=object),\n",
              "                                                                            array(['First', 'Fourth & Above', 'Second', 'Third'], dtype=object)]),\n",
              "                                                  ['Brand', 'Model', 'Location',\n",
              "                                                   'Fuel_Type',\n",
              "                                                   'Owner_Type'])])),\n",
              "                ('linearregression', LinearRegression())])"
            ]
          },
          "execution_count": 51,
          "metadata": {},
          "output_type": "execute_result"
        }
      ],
      "source": [
        "pipe.fit(X_train,y_train)"
      ]
    },
    {
      "cell_type": "code",
      "execution_count": 52,
      "metadata": {
        "id": "nDV6LrMimx9x"
      },
      "outputs": [],
      "source": [
        "y_pred=pipe.predict(X_test)"
      ]
    },
    {
      "cell_type": "code",
      "execution_count": 53,
      "metadata": {
        "colab": {
          "base_uri": "https://localhost:8080/"
        },
        "id": "edq6T-o6myAH",
        "outputId": "9f3e2a9d-4a80-4e09-e292-8873494662f9"
      },
      "outputs": [
        {
          "data": {
            "text/plain": [
              "0.6310122008868462"
            ]
          },
          "execution_count": 53,
          "metadata": {},
          "output_type": "execute_result"
        }
      ],
      "source": [
        "r2_score(y_test,y_pred)"
      ]
    },
    {
      "cell_type": "code",
      "execution_count": 54,
      "metadata": {
        "id": "tlwnrnk7myCg"
      },
      "outputs": [],
      "source": [
        "scores=[]\n",
        "for i in range(100):\n",
        "    X_train,X_test,y_train,y_test=train_test_split(X,y,test_size=0.2,random_state=i)\n",
        "    lr=LinearRegression()\n",
        "    pipe=make_pipeline(column_trans,lr)\n",
        "    pipe.fit(X_train,y_train)\n",
        "    y_pred=pipe.predict(X_test)\n",
        "    scores.append(r2_score(y_test,y_pred))"
      ]
    },
    {
      "cell_type": "code",
      "execution_count": 55,
      "metadata": {
        "colab": {
          "base_uri": "https://localhost:8080/"
        },
        "id": "frNQgRcymyFI",
        "outputId": "8a0697b4-fffd-4625-b34e-a23f1c9b53f6"
      },
      "outputs": [
        {
          "data": {
            "text/plain": [
              "47"
            ]
          },
          "execution_count": 55,
          "metadata": {},
          "output_type": "execute_result"
        }
      ],
      "source": [
        "np.argmax(scores)"
      ]
    },
    {
      "cell_type": "code",
      "execution_count": 56,
      "metadata": {
        "colab": {
          "base_uri": "https://localhost:8080/"
        },
        "id": "rCjSboMMmyH4",
        "outputId": "e3d5c0eb-dc7d-48bf-b36b-0119c5431fa4"
      },
      "outputs": [
        {
          "data": {
            "text/plain": [
              "0.7211838846135918"
            ]
          },
          "execution_count": 56,
          "metadata": {},
          "output_type": "execute_result"
        }
      ],
      "source": [
        "scores[np.argmax(scores)]"
      ]
    },
    {
      "cell_type": "code",
      "execution_count": 57,
      "metadata": {
        "colab": {
          "base_uri": "https://localhost:8080/"
        },
        "id": "4qFMnnQymyKe",
        "outputId": "a96468a9-6357-4070-a5b8-f9ce4a834a78"
      },
      "outputs": [
        {
          "data": {
            "text/plain": [
              "0.7211838846135918"
            ]
          },
          "execution_count": 57,
          "metadata": {},
          "output_type": "execute_result"
        }
      ],
      "source": [
        "X_train,X_test,y_train,y_test=train_test_split(X,y,test_size=0.2,random_state=np.argmax(scores))\n",
        "reg=LinearRegression()\n",
        "pipe=make_pipeline(column_trans,reg)\n",
        "pipe.fit(X_train,y_train)\n",
        "y_pred=pipe.predict(X_test)\n",
        "r2_score(y_test,y_pred)"
      ]
    },
    {
      "cell_type": "code",
      "execution_count": 58,
      "metadata": {
        "colab": {
          "base_uri": "https://localhost:8080/"
        },
        "id": "Mi9Z4fScmyNS",
        "outputId": "c2b4d61f-2804-4176-911a-2a88adc2800e"
      },
      "outputs": [
        {
          "data": {
            "text/plain": [
              "array([-2.03159974])"
            ]
          },
          "execution_count": 58,
          "metadata": {},
          "output_type": "execute_result"
        }
      ],
      "source": [
        "pipe.predict(pd.DataFrame(columns=X.columns,data=np.array(['Ford', 'Fiesta 1.4',\t'Chennai'\t,2007,\t75000\t,'Petrol',\t'Second',\t1388,\t16]).reshape(1,9)))"
      ]
    },
    {
      "cell_type": "code",
      "execution_count": 59,
      "metadata": {
        "colab": {
          "base_uri": "https://localhost:8080/",
          "height": 424
        },
        "id": "5Sh-K3wgvxS6",
        "outputId": "28aed179-ae04-4559-ad24-f69d4ab60951"
      },
      "outputs": [
        {
          "data": {
            "text/html": [
              "<div>\n",
              "<style scoped>\n",
              "    .dataframe tbody tr th:only-of-type {\n",
              "        vertical-align: middle;\n",
              "    }\n",
              "\n",
              "    .dataframe tbody tr th {\n",
              "        vertical-align: top;\n",
              "    }\n",
              "\n",
              "    .dataframe thead th {\n",
              "        text-align: right;\n",
              "    }\n",
              "</style>\n",
              "<table border=\"1\" class=\"dataframe\">\n",
              "  <thead>\n",
              "    <tr style=\"text-align: right;\">\n",
              "      <th></th>\n",
              "      <th>Brand</th>\n",
              "      <th>Model</th>\n",
              "      <th>Location</th>\n",
              "      <th>Year</th>\n",
              "      <th>Kilometers_Driven</th>\n",
              "      <th>Fuel_Type</th>\n",
              "      <th>Owner_Type</th>\n",
              "      <th>Engine</th>\n",
              "      <th>Mileage</th>\n",
              "    </tr>\n",
              "  </thead>\n",
              "  <tbody>\n",
              "    <tr>\n",
              "      <th>0</th>\n",
              "      <td>Maruti</td>\n",
              "      <td>Wagon R</td>\n",
              "      <td>Mumbai</td>\n",
              "      <td>2010</td>\n",
              "      <td>72000</td>\n",
              "      <td>CNG</td>\n",
              "      <td>First</td>\n",
              "      <td>998</td>\n",
              "      <td>26</td>\n",
              "    </tr>\n",
              "    <tr>\n",
              "      <th>1</th>\n",
              "      <td>Hyundai</td>\n",
              "      <td>Creta 1.6</td>\n",
              "      <td>Pune</td>\n",
              "      <td>2015</td>\n",
              "      <td>41000</td>\n",
              "      <td>Diesel</td>\n",
              "      <td>First</td>\n",
              "      <td>1582</td>\n",
              "      <td>19</td>\n",
              "    </tr>\n",
              "    <tr>\n",
              "      <th>2</th>\n",
              "      <td>Honda</td>\n",
              "      <td>Jazz V</td>\n",
              "      <td>Chennai</td>\n",
              "      <td>2011</td>\n",
              "      <td>46000</td>\n",
              "      <td>Petrol</td>\n",
              "      <td>First</td>\n",
              "      <td>1199</td>\n",
              "      <td>18</td>\n",
              "    </tr>\n",
              "    <tr>\n",
              "      <th>3</th>\n",
              "      <td>Maruti</td>\n",
              "      <td>Ertiga VDI</td>\n",
              "      <td>Chennai</td>\n",
              "      <td>2012</td>\n",
              "      <td>87000</td>\n",
              "      <td>Diesel</td>\n",
              "      <td>First</td>\n",
              "      <td>1248</td>\n",
              "      <td>20</td>\n",
              "    </tr>\n",
              "    <tr>\n",
              "      <th>4</th>\n",
              "      <td>Audi</td>\n",
              "      <td>A4 New</td>\n",
              "      <td>Coimbatore</td>\n",
              "      <td>2013</td>\n",
              "      <td>40670</td>\n",
              "      <td>Diesel</td>\n",
              "      <td>Second</td>\n",
              "      <td>1968</td>\n",
              "      <td>15</td>\n",
              "    </tr>\n",
              "    <tr>\n",
              "      <th>...</th>\n",
              "      <td>...</td>\n",
              "      <td>...</td>\n",
              "      <td>...</td>\n",
              "      <td>...</td>\n",
              "      <td>...</td>\n",
              "      <td>...</td>\n",
              "      <td>...</td>\n",
              "      <td>...</td>\n",
              "      <td>...</td>\n",
              "    </tr>\n",
              "    <tr>\n",
              "      <th>5976</th>\n",
              "      <td>Maruti</td>\n",
              "      <td>Swift VDI</td>\n",
              "      <td>Delhi</td>\n",
              "      <td>2014</td>\n",
              "      <td>27365</td>\n",
              "      <td>Diesel</td>\n",
              "      <td>First</td>\n",
              "      <td>1248</td>\n",
              "      <td>28</td>\n",
              "    </tr>\n",
              "    <tr>\n",
              "      <th>5977</th>\n",
              "      <td>Hyundai</td>\n",
              "      <td>Xcent 1.1</td>\n",
              "      <td>Jaipur</td>\n",
              "      <td>2015</td>\n",
              "      <td>100000</td>\n",
              "      <td>Diesel</td>\n",
              "      <td>First</td>\n",
              "      <td>1120</td>\n",
              "      <td>24</td>\n",
              "    </tr>\n",
              "    <tr>\n",
              "      <th>5978</th>\n",
              "      <td>Mahindra</td>\n",
              "      <td>Xylo D4</td>\n",
              "      <td>Jaipur</td>\n",
              "      <td>2012</td>\n",
              "      <td>55000</td>\n",
              "      <td>Diesel</td>\n",
              "      <td>Second</td>\n",
              "      <td>2498</td>\n",
              "      <td>14</td>\n",
              "    </tr>\n",
              "    <tr>\n",
              "      <th>5979</th>\n",
              "      <td>Maruti</td>\n",
              "      <td>Wagon R</td>\n",
              "      <td>Kolkata</td>\n",
              "      <td>2013</td>\n",
              "      <td>46000</td>\n",
              "      <td>Petrol</td>\n",
              "      <td>First</td>\n",
              "      <td>998</td>\n",
              "      <td>18</td>\n",
              "    </tr>\n",
              "    <tr>\n",
              "      <th>5980</th>\n",
              "      <td>Chevrolet</td>\n",
              "      <td>Beat Diesel</td>\n",
              "      <td>Hyderabad</td>\n",
              "      <td>2011</td>\n",
              "      <td>47000</td>\n",
              "      <td>Diesel</td>\n",
              "      <td>First</td>\n",
              "      <td>936</td>\n",
              "      <td>25</td>\n",
              "    </tr>\n",
              "  </tbody>\n",
              "</table>\n",
              "<p>5981 rows × 9 columns</p>\n",
              "</div>"
            ],
            "text/plain": [
              "          Brand        Model    Location  Year  Kilometers_Driven Fuel_Type  \\\n",
              "0        Maruti      Wagon R      Mumbai  2010              72000       CNG   \n",
              "1       Hyundai    Creta 1.6        Pune  2015              41000    Diesel   \n",
              "2         Honda       Jazz V     Chennai  2011              46000    Petrol   \n",
              "3        Maruti   Ertiga VDI     Chennai  2012              87000    Diesel   \n",
              "4          Audi       A4 New  Coimbatore  2013              40670    Diesel   \n",
              "...         ...          ...         ...   ...                ...       ...   \n",
              "5976     Maruti    Swift VDI       Delhi  2014              27365    Diesel   \n",
              "5977    Hyundai    Xcent 1.1      Jaipur  2015             100000    Diesel   \n",
              "5978   Mahindra      Xylo D4      Jaipur  2012              55000    Diesel   \n",
              "5979     Maruti      Wagon R     Kolkata  2013              46000    Petrol   \n",
              "5980  Chevrolet  Beat Diesel   Hyderabad  2011              47000    Diesel   \n",
              "\n",
              "     Owner_Type  Engine  Mileage  \n",
              "0         First     998       26  \n",
              "1         First    1582       19  \n",
              "2         First    1199       18  \n",
              "3         First    1248       20  \n",
              "4        Second    1968       15  \n",
              "...         ...     ...      ...  \n",
              "5976      First    1248       28  \n",
              "5977      First    1120       24  \n",
              "5978     Second    2498       14  \n",
              "5979      First     998       18  \n",
              "5980      First     936       25  \n",
              "\n",
              "[5981 rows x 9 columns]"
            ]
          },
          "execution_count": 59,
          "metadata": {},
          "output_type": "execute_result"
        }
      ],
      "source": [
        "X"
      ]
    },
    {
      "cell_type": "code",
      "execution_count": 60,
      "metadata": {
        "colab": {
          "base_uri": "https://localhost:8080/"
        },
        "id": "oqzcwAZs-pPT",
        "outputId": "c98d7b60-c21d-47c5-85df-c57b07a7bf78"
      },
      "outputs": [
        {
          "name": "stdout",
          "output_type": "stream",
          "text": [
            "<class 'pandas.core.frame.DataFrame'>\n",
            "RangeIndex: 5981 entries, 0 to 5980\n",
            "Data columns (total 9 columns):\n",
            " #   Column             Non-Null Count  Dtype \n",
            "---  ------             --------------  ----- \n",
            " 0   Brand              5981 non-null   object\n",
            " 1   Model              5981 non-null   object\n",
            " 2   Location           5981 non-null   object\n",
            " 3   Year               5981 non-null   int32 \n",
            " 4   Kilometers_Driven  5981 non-null   int32 \n",
            " 5   Fuel_Type          5981 non-null   object\n",
            " 6   Owner_Type         5981 non-null   object\n",
            " 7   Engine             5981 non-null   int16 \n",
            " 8   Mileage            5981 non-null   int16 \n",
            "dtypes: int16(2), int32(2), object(5)\n",
            "memory usage: 303.8+ KB\n"
          ]
        }
      ],
      "source": [
        "X.info()"
      ]
    },
    {
      "cell_type": "code",
      "execution_count": 61,
      "metadata": {
        "colab": {
          "base_uri": "https://localhost:8080/"
        },
        "id": "XsaJCKGKvxNq",
        "outputId": "489bcc3a-357c-46c6-e721-b5c01143347f"
      },
      "outputs": [
        {
          "data": {
            "text/plain": [
              "0        1.75\n",
              "1       12.50\n",
              "2        4.50\n",
              "3        6.00\n",
              "4       17.74\n",
              "        ...  \n",
              "5976     4.75\n",
              "5977     4.00\n",
              "5978     2.90\n",
              "5979     2.65\n",
              "5980     2.50\n",
              "Name: Price, Length: 5981, dtype: float64"
            ]
          },
          "execution_count": 61,
          "metadata": {},
          "output_type": "execute_result"
        }
      ],
      "source": [
        "y"
      ]
    },
    {
      "cell_type": "code",
      "execution_count": 70,
      "metadata": {
        "id": "_G6HNZAimyP6"
      },
      "outputs": [],
      "source": [
        "def predict(Brand, Model,Location\t,Year,\tKilometers_Driven\t,Fuel_Type,\tOwner_Type,\tEngine,\tMileage):\n",
        "  return pipe.predict(pd.DataFrame(columns=X_test.columns,data=np.array([Brand, Model,Location\t,Year,\tKilometers_Driven\t,Fuel_Type,\tOwner_Type,\tEngine,\tMileage]).reshape(1,9)))[0]\n",
        "\n"
      ]
    },
    {
      "cell_type": "code",
      "execution_count": 68,
      "metadata": {
        "colab": {
          "base_uri": "https://localhost:8080/"
        },
        "id": "FSerD2HimySX",
        "outputId": "c7f69d08-04c8-45ad-9373-32f146f4d1f6"
      },
      "outputs": [
        {
          "data": {
            "text/plain": [
              "5.723808686253506"
            ]
          },
          "execution_count": 68,
          "metadata": {},
          "output_type": "execute_result"
        }
      ],
      "source": [
        "predict('Maruti',\t'A4 New'\t,'Delhi',\t2014\t,27365\t,'Diesel',\t'First',\t1248,\t28)"
      ]
    },
    {
      "cell_type": "code",
      "execution_count": 64,
      "metadata": {
        "id": "sqo_yRjTmyU0"
      },
      "outputs": [],
      "source": [
        "import pickle"
      ]
    },
    {
      "cell_type": "code",
      "execution_count": 65,
      "metadata": {
        "id": "cWQIm636myXP"
      },
      "outputs": [],
      "source": [
        "pickle.dump(pipe,open('pipe_new.pkl','wb'))"
      ]
    },
    {
      "cell_type": "code",
      "execution_count": 66,
      "metadata": {
        "id": "voR84sWxmyZr"
      },
      "outputs": [],
      "source": [
        "pickle.dump(X,open('X_new.pkl','wb'))"
      ]
    },
    {
      "cell_type": "code",
      "execution_count": null,
      "metadata": {
        "id": "Qde3ri_cmycC"
      },
      "outputs": [],
      "source": []
    },
    {
      "cell_type": "code",
      "execution_count": null,
      "metadata": {
        "id": "Pt8Gjuo6myea"
      },
      "outputs": [],
      "source": []
    },
    {
      "cell_type": "code",
      "execution_count": null,
      "metadata": {
        "id": "KKmACVKHmygm"
      },
      "outputs": [],
      "source": []
    }
  ],
  "metadata": {
    "colab": {
      "provenance": []
    },
    "kernelspec": {
      "display_name": "Python 3.9.5 64-bit",
      "language": "python",
      "name": "python3"
    },
    "language_info": {
      "codemirror_mode": {
        "name": "ipython",
        "version": 3
      },
      "file_extension": ".py",
      "mimetype": "text/x-python",
      "name": "python",
      "nbconvert_exporter": "python",
      "pygments_lexer": "ipython3",
      "version": "3.9.5"
    },
    "vscode": {
      "interpreter": {
        "hash": "c7c3e18dca9aea07e2e81db4404171d2483d563ebef3b48a4d274710075a7673"
      }
    }
  },
  "nbformat": 4,
  "nbformat_minor": 0
}
